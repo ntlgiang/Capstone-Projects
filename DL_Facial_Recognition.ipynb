{
  "nbformat": 4,
  "nbformat_minor": 0,
  "metadata": {
    "colab": {
      "name": "DL_Facial Recognition.ipynb",
      "provenance": [],
      "collapsed_sections": [],
      "mount_file_id": "1biy7LnhLqdje6b1QWc-5neaqW-UsR9mK",
      "authorship_tag": "ABX9TyODwqG0RuoEBeYXh3ZFJxy9",
      "include_colab_link": true
    },
    "kernelspec": {
      "name": "python3",
      "display_name": "Python 3"
    },
    "language_info": {
      "name": "python"
    }
  },
  "cells": [
    {
      "cell_type": "markdown",
      "metadata": {
        "id": "view-in-github",
        "colab_type": "text"
      },
      "source": [
        "<a href=\"https://colab.research.google.com/github/ntlgiang/Capstone-Projects/blob/master/DL_Facial_Recognition.ipynb\" target=\"_parent\"><img src=\"https://colab.research.google.com/assets/colab-badge.svg\" alt=\"Open In Colab\"/></a>"
      ]
    },
    {
      "cell_type": "markdown",
      "metadata": {
        "id": "_2XVzMN8RVWv"
      },
      "source": [
        "# **Perform Facial Recognition with Deep Learning in Keras Using CNN**"
      ]
    },
    {
      "cell_type": "markdown",
      "metadata": {
        "id": "iXpJJqW5RZDD"
      },
      "source": [
        "**DESCRIPTION**\n",
        "\n",
        "Facial recognition is a biometric alternative that measures unique characteristics of a human\n",
        "face. Applications available today include flight check in, tagging friends and family members in\n",
        "photos, and “tailored” advertising. You are a computer vision engineer who needs to develop a\n",
        "face recognition programme with deep convolutional neural networks.\n",
        "Objective: Use a deep convolutional neural network to perform facial recognition using Keras.\n",
        "Dataset Details:\n",
        "ORL face database composed of 400 images of size 112 x 92. There are 40 people, 10 images\n",
        "per person. The images were taken at different times, lighting and facial expressions. The faces\n",
        "are in an upright position in frontal view, with a slight left-right rotation.\n",
        "Link to the Dataset: https://www.dropbox.com/s/i7uzp5yxk7wruva/ORL_faces.npz?dl=0\n",
        "Prerequisites:\n",
        "Keras\n",
        "Scikit Learn\n",
        "Steps to be followed:\n",
        "1. Input the required libraries\n",
        "2. Load the dataset after loading the dataset, you have to normalize every image.\n",
        "3. Split the dataset\n",
        "4. Transform the images to equal sizes to feed in CNN\n",
        "5. Build a CNN model that has 3 main layers:\n",
        "\n",
        "    *   i. Convolutional Layer\n",
        "    *   ii. Pooling Layer\n",
        "    *   iii. Fully Connected Layer\n",
        "\n",
        "6. Train the model\n",
        "7. Plot the result\n",
        "8. Iterate the model until the accuracy is above 90%"
      ]
    },
    {
      "cell_type": "markdown",
      "metadata": {
        "id": "63kxg0b_TkPZ"
      },
      "source": [
        "**1. Input the libraries**"
      ]
    },
    {
      "cell_type": "code",
      "metadata": {
        "colab": {
          "base_uri": "https://localhost:8080/"
        },
        "id": "kA5Yw9pk6clT",
        "outputId": "cd8cc2c8-ae24-4b1c-bc3b-aed4da267e5f"
      },
      "source": [
        "# Data science libraries\n",
        "import numpy as np\n",
        "import pandas as pd\n",
        "import matplotlib.pyplot as plt\n",
        "import itertools\n",
        "\n",
        "#Scikit-learn libraries\n",
        "from sklearn.model_selection import train_test_split\n",
        "from sklearn.metrics import accuracy_score\n",
        "from sklearn.metrics import confusion_matrix\n",
        "from sklearn.metrics import classification_report\n",
        "from sklearn.metrics import roc_curve,auc\n",
        "\n",
        "#Keras API Tensorflow 2 libraries\n",
        "import tensorflow as tf\n",
        "import keras\n",
        "from keras.models import Sequential\n",
        "from keras.layers import Dense, Dropout, Flatten, Conv2D, MaxPooling2D, Activation, LeakyReLU\n",
        "from keras.layers.noise import AlphaDropout\n",
        "from tensorflow.keras.optimizers import Adam\n",
        "\n",
        "from keras.utils.generic_utils import get_custom_objects\n",
        "from keras import backend as K\n",
        "from keras.callbacks import TensorBoard\n",
        "from keras.utils.np_utils import to_categorical\n",
        "\n",
        "print('Tensorflow version:', tf.__version__)"
      ],
      "execution_count": 1,
      "outputs": [
        {
          "output_type": "stream",
          "name": "stdout",
          "text": [
            "Tensorflow version: 2.6.0\n"
          ]
        }
      ]
    },
    {
      "cell_type": "markdown",
      "metadata": {
        "id": "OnYSYBjfT0yI"
      },
      "source": [
        "**2. Load the dataset**"
      ]
    },
    {
      "cell_type": "code",
      "metadata": {
        "colab": {
          "base_uri": "https://localhost:8080/"
        },
        "id": "7yS5q2hzRx7D",
        "outputId": "a02aa77d-93ad-4ed7-cb9e-b800155db15d"
      },
      "source": [
        "#load dataset\n",
        "from numpy import load\n",
        "\n",
        "data = load('/content/drive/MyDrive/Colab Notebooks/Dataset/Facial Recognition/ORL_faces.npz')\n",
        "\n",
        "# load the \"Train Images\"\n",
        "x_train = data['trainX']\n",
        "#normalize every image\n",
        "x_train = np.array(x_train,dtype='float32')/255\n",
        "\n",
        "x_test = data['testX']\n",
        "x_test = np.array(x_test,dtype='float32')/255\n",
        "\n",
        "# load the Label of Images\n",
        "y_train= data['trainY']\n",
        "y_test= data['testY']\n",
        "\n",
        "# show the train and test Data format\n",
        "print('x_train : {}'.format(x_train[:]))\n",
        "print('----------------------------------------------------------------------')\n",
        "print('Y-train: {}'.format(y_train))\n",
        "print('----------------------------------------------------------------------')\n",
        "print('x_test: {}'.format(x_test[:]))\n",
        "print('----------------------------------------------------------------------')\n",
        "print('Y-test: {}'.format(y_test))"
      ],
      "execution_count": 2,
      "outputs": [
        {
          "output_type": "stream",
          "name": "stdout",
          "text": [
            "x_train : [[0.1882353  0.19215687 0.1764706  ... 0.18431373 0.18039216 0.18039216]\n",
            " [0.23529412 0.23529412 0.24313726 ... 0.1254902  0.13333334 0.13333334]\n",
            " [0.15294118 0.17254902 0.20784314 ... 0.11372549 0.10196079 0.11372549]\n",
            " ...\n",
            " [0.44705883 0.45882353 0.44705883 ... 0.38431373 0.3764706  0.38431373]\n",
            " [0.4117647  0.4117647  0.41960785 ... 0.21176471 0.18431373 0.16078432]\n",
            " [0.45490196 0.44705883 0.45882353 ... 0.37254903 0.39215687 0.39607844]]\n",
            "----------------------------------------------------------------------\n",
            "Y-train: [ 0  0  0  0  0  0  0  0  0  0  0  0  1  1  1  1  1  1  1  1  1  1  1  1\n",
            "  2  2  2  2  2  2  2  2  2  2  2  2  3  3  3  3  3  3  3  3  3  3  3  3\n",
            "  4  4  4  4  4  4  4  4  4  4  4  4  5  5  5  5  5  5  5  5  5  5  5  5\n",
            "  6  6  6  6  6  6  6  6  6  6  6  6  7  7  7  7  7  7  7  7  7  7  7  7\n",
            "  8  8  8  8  8  8  8  8  8  8  8  8  9  9  9  9  9  9  9  9  9  9  9  9\n",
            " 10 10 10 10 10 10 10 10 10 10 10 10 11 11 11 11 11 11 11 11 11 11 11 11\n",
            " 12 12 12 12 12 12 12 12 12 12 12 12 13 13 13 13 13 13 13 13 13 13 13 13\n",
            " 14 14 14 14 14 14 14 14 14 14 14 14 15 15 15 15 15 15 15 15 15 15 15 15\n",
            " 16 16 16 16 16 16 16 16 16 16 16 16 17 17 17 17 17 17 17 17 17 17 17 17\n",
            " 18 18 18 18 18 18 18 18 18 18 18 18 19 19 19 19 19 19 19 19 19 19 19 19]\n",
            "----------------------------------------------------------------------\n",
            "x_test: [[0.16078432 0.18431373 0.18431373 ... 0.13725491 0.14509805 0.14901961]\n",
            " [0.17254902 0.16862746 0.1254902  ... 0.16862746 0.16862746 0.14509805]\n",
            " [0.16470589 0.16078432 0.17254902 ... 0.16470589 0.16862746 0.16078432]\n",
            " ...\n",
            " [0.39607844 0.39215687 0.40392157 ... 0.12156863 0.15686275 0.16470589]\n",
            " [0.4117647  0.42352942 0.41568628 ... 0.17254902 0.15686275 0.18431373]\n",
            " [0.44313726 0.44705883 0.43529412 ... 0.24313726 0.31764707 0.34901962]]\n",
            "----------------------------------------------------------------------\n",
            "Y-test: [ 0  0  0  0  0  0  0  0  1  1  1  1  1  1  1  1  2  2  2  2  2  2  2  2\n",
            "  3  3  3  3  3  3  3  3  4  4  4  4  4  4  4  4  5  5  5  5  5  5  5  5\n",
            "  6  6  6  6  6  6  6  6  7  7  7  7  7  7  7  7  8  8  8  8  8  8  8  8\n",
            "  9  9  9  9  9  9  9  9 10 10 10 10 10 10 10 10 11 11 11 11 11 11 11 11\n",
            " 12 12 12 12 12 12 12 12 13 13 13 13 13 13 13 13 14 14 14 14 14 14 14 14\n",
            " 15 15 15 15 15 15 15 15 16 16 16 16 16 16 16 16 17 17 17 17 17 17 17 17\n",
            " 18 18 18 18 18 18 18 18 19 19 19 19 19 19 19 19]\n"
          ]
        }
      ]
    },
    {
      "cell_type": "markdown",
      "metadata": {
        "id": "owT9J4qAT48Y"
      },
      "source": [
        "**3. Split the dataset**"
      ]
    },
    {
      "cell_type": "code",
      "metadata": {
        "colab": {
          "base_uri": "https://localhost:8080/"
        },
        "id": "bJIo-l-xR3Fc",
        "outputId": "b2a6a12f-4070-4a60-b091-7ad432f84fea"
      },
      "source": [
        "print('x_train shape: {}'.format(x_train.shape))\n",
        "print('y_train shape: {}'.format(y_train.shape))\n",
        "print('----------------------------------------------------------------------')\n",
        "print('x_test shape: {}'.format(x_test.shape))\n",
        "print('y_test shape: {}'.format(y_test.shape))"
      ],
      "execution_count": 3,
      "outputs": [
        {
          "output_type": "stream",
          "name": "stdout",
          "text": [
            "x_train shape: (240, 10304)\n",
            "y_train shape: (240,)\n",
            "----------------------------------------------------------------------\n",
            "x_test shape: (160, 10304)\n",
            "y_test shape: (160,)\n"
          ]
        }
      ]
    },
    {
      "cell_type": "markdown",
      "metadata": {
        "id": "SRgMpZ9dT-Gr"
      },
      "source": [
        "**4. Transform the images to equal sizes to feed in CNN**"
      ]
    },
    {
      "cell_type": "code",
      "metadata": {
        "id": "IkBPSueUR3IF"
      },
      "source": [
        "x_train, x_test, y_train, y_test= train_test_split(\n",
        "    x_train, y_train, test_size=.05, random_state=1234,)"
      ],
      "execution_count": 4,
      "outputs": []
    },
    {
      "cell_type": "code",
      "metadata": {
        "colab": {
          "base_uri": "https://localhost:8080/"
        },
        "id": "pHHsUGY8R3K2",
        "outputId": "34bdd285-dced-484a-9def-c50bacdc58bc"
      },
      "source": [
        "im_rows=112\n",
        "im_cols=92\n",
        "batch_size=512\n",
        "im_shape=(im_rows, im_cols, 1)\n",
        "\n",
        "#change the size of images\n",
        "x_train = x_train.reshape(x_train.shape[0], *im_shape)\n",
        "x_test = x_test.reshape(x_test.shape[0], *im_shape)\n",
        "\n",
        "print('x_train shape: {}'.format(y_train.shape[0]))\n",
        "print('x_test shape: {}'.format(y_test.shape))"
      ],
      "execution_count": 5,
      "outputs": [
        {
          "output_type": "stream",
          "name": "stdout",
          "text": [
            "x_train shape: 228\n",
            "x_test shape: (12,)\n"
          ]
        }
      ]
    },
    {
      "cell_type": "markdown",
      "metadata": {
        "id": "I5jjYAUhUDyI"
      },
      "source": [
        "**5. Build a CNN model that has 3 main layers:**\n",
        "\n",
        "\n",
        "\n",
        "*   Convolutional Layer\n",
        "*   Pooling Layer\n",
        "*   Fully Connected Layer\n"
      ]
    },
    {
      "cell_type": "code",
      "metadata": {
        "colab": {
          "base_uri": "https://localhost:8080/"
        },
        "id": "_2zXKxqcR3Np",
        "outputId": "ea7e5acb-29e8-46d5-9348-9a21515a4087"
      },
      "source": [
        "#filters= the depth of output image or kernels\n",
        "\n",
        "cnn_model= Sequential([\n",
        "    Conv2D(filters=36, kernel_size=7, activation='relu', input_shape= im_shape),\n",
        "    MaxPooling2D(pool_size=2),\n",
        "    Conv2D(filters=54, kernel_size=5, activation='relu', input_shape= im_shape),\n",
        "    MaxPooling2D(pool_size=2),\n",
        "    Flatten(),\n",
        "    Dense(2048, activation='relu'),\n",
        "     Dropout(0.5),\n",
        "    Dense(1024, activation='relu'),\n",
        "    Dropout(0.5),\n",
        "    Dense(512, activation='relu'),\n",
        "    Dropout(0.5),\n",
        "    #20 is the number of outputs\n",
        "    Dense(20, activation='softmax')  \n",
        "])\n",
        "\n",
        "cnn_model.compile(\n",
        "    loss='sparse_categorical_crossentropy',#'categorical_crossentropy',\n",
        "    optimizer=Adam(lr=0.0001),\n",
        "    metrics=['accuracy']\n",
        ")"
      ],
      "execution_count": 6,
      "outputs": [
        {
          "output_type": "stream",
          "name": "stderr",
          "text": [
            "/usr/local/lib/python3.7/dist-packages/keras/optimizer_v2/optimizer_v2.py:356: UserWarning: The `lr` argument is deprecated, use `learning_rate` instead.\n",
            "  \"The `lr` argument is deprecated, use `learning_rate` instead.\")\n"
          ]
        }
      ]
    },
    {
      "cell_type": "code",
      "metadata": {
        "colab": {
          "base_uri": "https://localhost:8080/"
        },
        "id": "VPy33rJfR3Qh",
        "outputId": "c3003a28-119e-4ddc-95e1-9de15ce50c88"
      },
      "source": [
        "#Show the model's parameters.\n",
        "cnn_model.summary()"
      ],
      "execution_count": 7,
      "outputs": [
        {
          "output_type": "stream",
          "name": "stdout",
          "text": [
            "Model: \"sequential\"\n",
            "_________________________________________________________________\n",
            "Layer (type)                 Output Shape              Param #   \n",
            "=================================================================\n",
            "conv2d (Conv2D)              (None, 106, 86, 36)       1800      \n",
            "_________________________________________________________________\n",
            "max_pooling2d (MaxPooling2D) (None, 53, 43, 36)        0         \n",
            "_________________________________________________________________\n",
            "conv2d_1 (Conv2D)            (None, 49, 39, 54)        48654     \n",
            "_________________________________________________________________\n",
            "max_pooling2d_1 (MaxPooling2 (None, 24, 19, 54)        0         \n",
            "_________________________________________________________________\n",
            "flatten (Flatten)            (None, 24624)             0         \n",
            "_________________________________________________________________\n",
            "dense (Dense)                (None, 2048)              50432000  \n",
            "_________________________________________________________________\n",
            "dropout (Dropout)            (None, 2048)              0         \n",
            "_________________________________________________________________\n",
            "dense_1 (Dense)              (None, 1024)              2098176   \n",
            "_________________________________________________________________\n",
            "dropout_1 (Dropout)          (None, 1024)              0         \n",
            "_________________________________________________________________\n",
            "dense_2 (Dense)              (None, 512)               524800    \n",
            "_________________________________________________________________\n",
            "dropout_2 (Dropout)          (None, 512)               0         \n",
            "_________________________________________________________________\n",
            "dense_3 (Dense)              (None, 20)                10260     \n",
            "=================================================================\n",
            "Total params: 53,115,690\n",
            "Trainable params: 53,115,690\n",
            "Non-trainable params: 0\n",
            "_________________________________________________________________\n"
          ]
        }
      ]
    },
    {
      "cell_type": "markdown",
      "metadata": {
        "id": "902JhKJPUZi_"
      },
      "source": [
        "**6. Train the model**"
      ]
    },
    {
      "cell_type": "code",
      "metadata": {
        "colab": {
          "base_uri": "https://localhost:8080/"
        },
        "id": "tXQnhp_IR3TL",
        "outputId": "8e389cd7-0d59-46f8-b8b2-000cc6b4b5d3"
      },
      "source": [
        "history=cnn_model.fit(\n",
        "    np.array(x_train), np.array(y_train), batch_size=512,\n",
        "    epochs=250, verbose=2,\n",
        "    validation_data=(np.array(x_test),np.array(y_test)),\n",
        ")"
      ],
      "execution_count": 8,
      "outputs": [
        {
          "output_type": "stream",
          "name": "stdout",
          "text": [
            "Epoch 1/250\n",
            "1/1 - 9s - loss: 3.0035 - accuracy: 0.0746 - val_loss: 3.0203 - val_accuracy: 0.0833\n",
            "Epoch 2/250\n",
            "1/1 - 7s - loss: 3.0284 - accuracy: 0.0526 - val_loss: 3.0438 - val_accuracy: 0.0000e+00\n",
            "Epoch 3/250\n",
            "1/1 - 8s - loss: 3.0518 - accuracy: 0.0395 - val_loss: 3.0383 - val_accuracy: 0.0000e+00\n",
            "Epoch 4/250\n",
            "1/1 - 7s - loss: 3.0311 - accuracy: 0.0307 - val_loss: 3.0194 - val_accuracy: 0.0000e+00\n",
            "Epoch 5/250\n",
            "1/1 - 7s - loss: 3.0217 - accuracy: 0.0658 - val_loss: 3.0084 - val_accuracy: 0.0000e+00\n",
            "Epoch 6/250\n",
            "1/1 - 7s - loss: 3.0170 - accuracy: 0.0833 - val_loss: 3.0050 - val_accuracy: 0.0000e+00\n",
            "Epoch 7/250\n",
            "1/1 - 7s - loss: 3.0447 - accuracy: 0.0351 - val_loss: 2.9981 - val_accuracy: 0.0000e+00\n",
            "Epoch 8/250\n",
            "1/1 - 7s - loss: 3.0126 - accuracy: 0.0351 - val_loss: 2.9946 - val_accuracy: 0.0000e+00\n",
            "Epoch 9/250\n",
            "1/1 - 7s - loss: 2.9977 - accuracy: 0.0439 - val_loss: 2.9941 - val_accuracy: 0.0000e+00\n",
            "Epoch 10/250\n",
            "1/1 - 7s - loss: 3.0071 - accuracy: 0.0614 - val_loss: 2.9960 - val_accuracy: 0.0000e+00\n",
            "Epoch 11/250\n",
            "1/1 - 7s - loss: 2.9452 - accuracy: 0.0921 - val_loss: 2.9973 - val_accuracy: 0.0000e+00\n",
            "Epoch 12/250\n",
            "1/1 - 7s - loss: 2.9761 - accuracy: 0.0789 - val_loss: 2.9981 - val_accuracy: 0.0000e+00\n",
            "Epoch 13/250\n",
            "1/1 - 7s - loss: 2.9943 - accuracy: 0.0789 - val_loss: 2.9985 - val_accuracy: 0.0000e+00\n",
            "Epoch 14/250\n",
            "1/1 - 7s - loss: 2.9596 - accuracy: 0.0702 - val_loss: 2.9987 - val_accuracy: 0.0000e+00\n",
            "Epoch 15/250\n",
            "1/1 - 7s - loss: 2.9916 - accuracy: 0.0526 - val_loss: 3.0003 - val_accuracy: 0.0000e+00\n",
            "Epoch 16/250\n",
            "1/1 - 7s - loss: 2.9825 - accuracy: 0.0570 - val_loss: 2.9998 - val_accuracy: 0.0000e+00\n",
            "Epoch 17/250\n",
            "1/1 - 7s - loss: 2.9605 - accuracy: 0.0702 - val_loss: 2.9985 - val_accuracy: 0.0000e+00\n",
            "Epoch 18/250\n",
            "1/1 - 7s - loss: 2.9624 - accuracy: 0.0921 - val_loss: 2.9966 - val_accuracy: 0.0000e+00\n",
            "Epoch 19/250\n",
            "1/1 - 7s - loss: 2.9677 - accuracy: 0.0614 - val_loss: 2.9937 - val_accuracy: 0.0000e+00\n",
            "Epoch 20/250\n",
            "1/1 - 7s - loss: 2.9672 - accuracy: 0.0789 - val_loss: 2.9903 - val_accuracy: 0.0000e+00\n",
            "Epoch 21/250\n",
            "1/1 - 7s - loss: 2.9568 - accuracy: 0.0965 - val_loss: 2.9875 - val_accuracy: 0.0000e+00\n",
            "Epoch 22/250\n",
            "1/1 - 7s - loss: 2.9495 - accuracy: 0.1272 - val_loss: 2.9846 - val_accuracy: 0.0000e+00\n",
            "Epoch 23/250\n",
            "1/1 - 7s - loss: 2.9488 - accuracy: 0.1316 - val_loss: 2.9802 - val_accuracy: 0.0000e+00\n",
            "Epoch 24/250\n",
            "1/1 - 7s - loss: 2.9406 - accuracy: 0.1316 - val_loss: 2.9738 - val_accuracy: 0.0833\n",
            "Epoch 25/250\n",
            "1/1 - 7s - loss: 2.9411 - accuracy: 0.1316 - val_loss: 2.9665 - val_accuracy: 0.0000e+00\n",
            "Epoch 26/250\n",
            "1/1 - 7s - loss: 2.9143 - accuracy: 0.1798 - val_loss: 2.9602 - val_accuracy: 0.0000e+00\n",
            "Epoch 27/250\n",
            "1/1 - 7s - loss: 2.9212 - accuracy: 0.1404 - val_loss: 2.9541 - val_accuracy: 0.0000e+00\n",
            "Epoch 28/250\n",
            "1/1 - 7s - loss: 2.9217 - accuracy: 0.1404 - val_loss: 2.9480 - val_accuracy: 0.0000e+00\n",
            "Epoch 29/250\n",
            "1/1 - 7s - loss: 2.9235 - accuracy: 0.1184 - val_loss: 2.9419 - val_accuracy: 0.0000e+00\n",
            "Epoch 30/250\n",
            "1/1 - 7s - loss: 2.8992 - accuracy: 0.1404 - val_loss: 2.9339 - val_accuracy: 0.0000e+00\n",
            "Epoch 31/250\n",
            "1/1 - 7s - loss: 2.8708 - accuracy: 0.1798 - val_loss: 2.9245 - val_accuracy: 0.0000e+00\n",
            "Epoch 32/250\n",
            "1/1 - 7s - loss: 2.8604 - accuracy: 0.2149 - val_loss: 2.9135 - val_accuracy: 0.0000e+00\n",
            "Epoch 33/250\n",
            "1/1 - 7s - loss: 2.8451 - accuracy: 0.1974 - val_loss: 2.9028 - val_accuracy: 0.0000e+00\n",
            "Epoch 34/250\n",
            "1/1 - 7s - loss: 2.8342 - accuracy: 0.1667 - val_loss: 2.8901 - val_accuracy: 0.0000e+00\n",
            "Epoch 35/250\n",
            "1/1 - 7s - loss: 2.7999 - accuracy: 0.1711 - val_loss: 2.8723 - val_accuracy: 0.0000e+00\n",
            "Epoch 36/250\n",
            "1/1 - 7s - loss: 2.7988 - accuracy: 0.1886 - val_loss: 2.8494 - val_accuracy: 0.0000e+00\n",
            "Epoch 37/250\n",
            "1/1 - 7s - loss: 2.7621 - accuracy: 0.1974 - val_loss: 2.8231 - val_accuracy: 0.0000e+00\n",
            "Epoch 38/250\n",
            "1/1 - 7s - loss: 2.7731 - accuracy: 0.1930 - val_loss: 2.7941 - val_accuracy: 0.0833\n",
            "Epoch 39/250\n",
            "1/1 - 7s - loss: 2.7280 - accuracy: 0.2018 - val_loss: 2.7673 - val_accuracy: 0.1667\n",
            "Epoch 40/250\n",
            "1/1 - 7s - loss: 2.7279 - accuracy: 0.2193 - val_loss: 2.7361 - val_accuracy: 0.1667\n",
            "Epoch 41/250\n",
            "1/1 - 7s - loss: 2.7218 - accuracy: 0.2149 - val_loss: 2.7043 - val_accuracy: 0.1667\n",
            "Epoch 42/250\n",
            "1/1 - 7s - loss: 2.6749 - accuracy: 0.2500 - val_loss: 2.6664 - val_accuracy: 0.2500\n",
            "Epoch 43/250\n",
            "1/1 - 7s - loss: 2.6840 - accuracy: 0.2149 - val_loss: 2.6234 - val_accuracy: 0.3333\n",
            "Epoch 44/250\n",
            "1/1 - 7s - loss: 2.6354 - accuracy: 0.2544 - val_loss: 2.5827 - val_accuracy: 0.3333\n",
            "Epoch 45/250\n",
            "1/1 - 7s - loss: 2.5595 - accuracy: 0.2368 - val_loss: 2.5439 - val_accuracy: 0.3333\n",
            "Epoch 46/250\n",
            "1/1 - 7s - loss: 2.6324 - accuracy: 0.2149 - val_loss: 2.5077 - val_accuracy: 0.3333\n",
            "Epoch 47/250\n",
            "1/1 - 7s - loss: 2.5369 - accuracy: 0.2675 - val_loss: 2.4711 - val_accuracy: 0.3333\n",
            "Epoch 48/250\n",
            "1/1 - 7s - loss: 2.5212 - accuracy: 0.2675 - val_loss: 2.4352 - val_accuracy: 0.4167\n",
            "Epoch 49/250\n",
            "1/1 - 7s - loss: 2.4460 - accuracy: 0.3246 - val_loss: 2.3914 - val_accuracy: 0.3333\n",
            "Epoch 50/250\n",
            "1/1 - 7s - loss: 2.3856 - accuracy: 0.3465 - val_loss: 2.3464 - val_accuracy: 0.4167\n",
            "Epoch 51/250\n",
            "1/1 - 7s - loss: 2.4021 - accuracy: 0.2851 - val_loss: 2.3078 - val_accuracy: 0.4167\n",
            "Epoch 52/250\n",
            "1/1 - 7s - loss: 2.3522 - accuracy: 0.2982 - val_loss: 2.2744 - val_accuracy: 0.4167\n",
            "Epoch 53/250\n",
            "1/1 - 7s - loss: 2.2586 - accuracy: 0.3596 - val_loss: 2.2389 - val_accuracy: 0.4167\n",
            "Epoch 54/250\n",
            "1/1 - 7s - loss: 2.1962 - accuracy: 0.4035 - val_loss: 2.1855 - val_accuracy: 0.4167\n",
            "Epoch 55/250\n",
            "1/1 - 7s - loss: 2.2031 - accuracy: 0.3465 - val_loss: 2.1059 - val_accuracy: 0.4167\n",
            "Epoch 56/250\n",
            "1/1 - 7s - loss: 2.0893 - accuracy: 0.3816 - val_loss: 2.0268 - val_accuracy: 0.4167\n",
            "Epoch 57/250\n",
            "1/1 - 7s - loss: 2.1028 - accuracy: 0.3772 - val_loss: 1.9512 - val_accuracy: 0.7500\n",
            "Epoch 58/250\n",
            "1/1 - 7s - loss: 2.0295 - accuracy: 0.3991 - val_loss: 1.8737 - val_accuracy: 0.6667\n",
            "Epoch 59/250\n",
            "1/1 - 7s - loss: 1.9545 - accuracy: 0.4079 - val_loss: 1.8058 - val_accuracy: 0.6667\n",
            "Epoch 60/250\n",
            "1/1 - 7s - loss: 1.8827 - accuracy: 0.4605 - val_loss: 1.7536 - val_accuracy: 0.5833\n",
            "Epoch 61/250\n",
            "1/1 - 8s - loss: 1.8974 - accuracy: 0.4518 - val_loss: 1.7228 - val_accuracy: 0.5833\n",
            "Epoch 62/250\n",
            "1/1 - 9s - loss: 1.9219 - accuracy: 0.4211 - val_loss: 1.7041 - val_accuracy: 0.5000\n",
            "Epoch 63/250\n",
            "1/1 - 8s - loss: 1.8178 - accuracy: 0.4649 - val_loss: 1.6513 - val_accuracy: 0.5833\n",
            "Epoch 64/250\n",
            "1/1 - 7s - loss: 1.6968 - accuracy: 0.4956 - val_loss: 1.5782 - val_accuracy: 0.7500\n",
            "Epoch 65/250\n",
            "1/1 - 8s - loss: 1.7732 - accuracy: 0.4605 - val_loss: 1.5212 - val_accuracy: 0.7500\n",
            "Epoch 66/250\n",
            "1/1 - 7s - loss: 1.5763 - accuracy: 0.5439 - val_loss: 1.4725 - val_accuracy: 0.6667\n",
            "Epoch 67/250\n",
            "1/1 - 8s - loss: 1.4825 - accuracy: 0.5877 - val_loss: 1.4246 - val_accuracy: 0.6667\n",
            "Epoch 68/250\n",
            "1/1 - 7s - loss: 1.5227 - accuracy: 0.5526 - val_loss: 1.3615 - val_accuracy: 0.6667\n",
            "Epoch 69/250\n",
            "1/1 - 8s - loss: 1.5268 - accuracy: 0.5175 - val_loss: 1.2886 - val_accuracy: 0.7500\n",
            "Epoch 70/250\n",
            "1/1 - 7s - loss: 1.4689 - accuracy: 0.5132 - val_loss: 1.2006 - val_accuracy: 0.7500\n",
            "Epoch 71/250\n",
            "1/1 - 8s - loss: 1.3957 - accuracy: 0.5702 - val_loss: 1.1153 - val_accuracy: 0.8333\n",
            "Epoch 72/250\n",
            "1/1 - 7s - loss: 1.2726 - accuracy: 0.6272 - val_loss: 1.0334 - val_accuracy: 0.8333\n",
            "Epoch 73/250\n",
            "1/1 - 8s - loss: 1.2500 - accuracy: 0.6140 - val_loss: 0.9645 - val_accuracy: 0.7500\n",
            "Epoch 74/250\n",
            "1/1 - 7s - loss: 1.1881 - accuracy: 0.6053 - val_loss: 0.9353 - val_accuracy: 0.8333\n",
            "Epoch 75/250\n",
            "1/1 - 8s - loss: 1.0204 - accuracy: 0.7149 - val_loss: 0.8664 - val_accuracy: 0.8333\n",
            "Epoch 76/250\n",
            "1/1 - 7s - loss: 1.1517 - accuracy: 0.6842 - val_loss: 0.7667 - val_accuracy: 0.9167\n",
            "Epoch 77/250\n",
            "1/1 - 8s - loss: 0.9915 - accuracy: 0.7193 - val_loss: 0.7068 - val_accuracy: 0.9167\n",
            "Epoch 78/250\n",
            "1/1 - 7s - loss: 1.0250 - accuracy: 0.6798 - val_loss: 0.6684 - val_accuracy: 1.0000\n",
            "Epoch 79/250\n",
            "1/1 - 8s - loss: 0.9910 - accuracy: 0.7193 - val_loss: 0.6516 - val_accuracy: 1.0000\n",
            "Epoch 80/250\n",
            "1/1 - 7s - loss: 0.8349 - accuracy: 0.7500 - val_loss: 0.6530 - val_accuracy: 0.9167\n",
            "Epoch 81/250\n",
            "1/1 - 7s - loss: 0.9745 - accuracy: 0.7018 - val_loss: 0.5783 - val_accuracy: 1.0000\n",
            "Epoch 82/250\n",
            "1/1 - 7s - loss: 0.8473 - accuracy: 0.8026 - val_loss: 0.4931 - val_accuracy: 1.0000\n",
            "Epoch 83/250\n",
            "1/1 - 8s - loss: 0.7961 - accuracy: 0.7807 - val_loss: 0.4524 - val_accuracy: 1.0000\n",
            "Epoch 84/250\n",
            "1/1 - 7s - loss: 0.8578 - accuracy: 0.7281 - val_loss: 0.4287 - val_accuracy: 1.0000\n",
            "Epoch 85/250\n",
            "1/1 - 8s - loss: 0.7923 - accuracy: 0.7763 - val_loss: 0.4515 - val_accuracy: 0.9167\n",
            "Epoch 86/250\n",
            "1/1 - 7s - loss: 0.6781 - accuracy: 0.8246 - val_loss: 0.4892 - val_accuracy: 0.9167\n",
            "Epoch 87/250\n",
            "1/1 - 7s - loss: 0.7064 - accuracy: 0.8289 - val_loss: 0.4582 - val_accuracy: 0.9167\n",
            "Epoch 88/250\n",
            "1/1 - 8s - loss: 0.7165 - accuracy: 0.7675 - val_loss: 0.3575 - val_accuracy: 1.0000\n",
            "Epoch 89/250\n",
            "1/1 - 7s - loss: 0.6854 - accuracy: 0.8070 - val_loss: 0.2956 - val_accuracy: 1.0000\n",
            "Epoch 90/250\n",
            "1/1 - 8s - loss: 0.6217 - accuracy: 0.8246 - val_loss: 0.2760 - val_accuracy: 1.0000\n",
            "Epoch 91/250\n",
            "1/1 - 7s - loss: 0.5775 - accuracy: 0.8333 - val_loss: 0.2860 - val_accuracy: 1.0000\n",
            "Epoch 92/250\n",
            "1/1 - 8s - loss: 0.5961 - accuracy: 0.8114 - val_loss: 0.2965 - val_accuracy: 0.9167\n",
            "Epoch 93/250\n",
            "1/1 - 7s - loss: 0.5644 - accuracy: 0.8202 - val_loss: 0.2724 - val_accuracy: 0.9167\n",
            "Epoch 94/250\n",
            "1/1 - 8s - loss: 0.4703 - accuracy: 0.8816 - val_loss: 0.2344 - val_accuracy: 1.0000\n",
            "Epoch 95/250\n",
            "1/1 - 7s - loss: 0.5399 - accuracy: 0.8509 - val_loss: 0.2092 - val_accuracy: 1.0000\n",
            "Epoch 96/250\n",
            "1/1 - 8s - loss: 0.4918 - accuracy: 0.8728 - val_loss: 0.1810 - val_accuracy: 1.0000\n",
            "Epoch 97/250\n",
            "1/1 - 7s - loss: 0.4429 - accuracy: 0.8772 - val_loss: 0.1732 - val_accuracy: 1.0000\n",
            "Epoch 98/250\n",
            "1/1 - 8s - loss: 0.3909 - accuracy: 0.8816 - val_loss: 0.1790 - val_accuracy: 1.0000\n",
            "Epoch 99/250\n",
            "1/1 - 7s - loss: 0.4331 - accuracy: 0.8772 - val_loss: 0.1695 - val_accuracy: 1.0000\n",
            "Epoch 100/250\n",
            "1/1 - 8s - loss: 0.3862 - accuracy: 0.8947 - val_loss: 0.1431 - val_accuracy: 1.0000\n",
            "Epoch 101/250\n",
            "1/1 - 7s - loss: 0.3435 - accuracy: 0.9079 - val_loss: 0.1278 - val_accuracy: 1.0000\n",
            "Epoch 102/250\n",
            "1/1 - 7s - loss: 0.3577 - accuracy: 0.8904 - val_loss: 0.1182 - val_accuracy: 1.0000\n",
            "Epoch 103/250\n",
            "1/1 - 8s - loss: 0.4040 - accuracy: 0.8728 - val_loss: 0.1230 - val_accuracy: 1.0000\n",
            "Epoch 104/250\n",
            "1/1 - 7s - loss: 0.3070 - accuracy: 0.9167 - val_loss: 0.1332 - val_accuracy: 1.0000\n",
            "Epoch 105/250\n",
            "1/1 - 7s - loss: 0.2974 - accuracy: 0.9342 - val_loss: 0.1457 - val_accuracy: 0.9167\n",
            "Epoch 106/250\n",
            "1/1 - 7s - loss: 0.2736 - accuracy: 0.9167 - val_loss: 0.1331 - val_accuracy: 1.0000\n",
            "Epoch 107/250\n",
            "1/1 - 8s - loss: 0.2827 - accuracy: 0.9342 - val_loss: 0.1033 - val_accuracy: 1.0000\n",
            "Epoch 108/250\n",
            "1/1 - 7s - loss: 0.2811 - accuracy: 0.9298 - val_loss: 0.0781 - val_accuracy: 1.0000\n",
            "Epoch 109/250\n",
            "1/1 - 8s - loss: 0.2424 - accuracy: 0.9386 - val_loss: 0.0633 - val_accuracy: 1.0000\n",
            "Epoch 110/250\n",
            "1/1 - 7s - loss: 0.2263 - accuracy: 0.9430 - val_loss: 0.0614 - val_accuracy: 1.0000\n",
            "Epoch 111/250\n",
            "1/1 - 8s - loss: 0.2363 - accuracy: 0.9430 - val_loss: 0.0708 - val_accuracy: 1.0000\n",
            "Epoch 112/250\n",
            "1/1 - 7s - loss: 0.1975 - accuracy: 0.9561 - val_loss: 0.0798 - val_accuracy: 1.0000\n",
            "Epoch 113/250\n",
            "1/1 - 8s - loss: 0.2291 - accuracy: 0.9518 - val_loss: 0.0825 - val_accuracy: 1.0000\n",
            "Epoch 114/250\n",
            "1/1 - 7s - loss: 0.2332 - accuracy: 0.9386 - val_loss: 0.0723 - val_accuracy: 1.0000\n",
            "Epoch 115/250\n",
            "1/1 - 8s - loss: 0.1817 - accuracy: 0.9561 - val_loss: 0.0640 - val_accuracy: 1.0000\n",
            "Epoch 116/250\n",
            "1/1 - 7s - loss: 0.1993 - accuracy: 0.9430 - val_loss: 0.0484 - val_accuracy: 1.0000\n",
            "Epoch 117/250\n",
            "1/1 - 8s - loss: 0.2178 - accuracy: 0.9386 - val_loss: 0.0447 - val_accuracy: 1.0000\n",
            "Epoch 118/250\n",
            "1/1 - 7s - loss: 0.2095 - accuracy: 0.9518 - val_loss: 0.0435 - val_accuracy: 1.0000\n",
            "Epoch 119/250\n",
            "1/1 - 8s - loss: 0.1823 - accuracy: 0.9474 - val_loss: 0.0361 - val_accuracy: 1.0000\n",
            "Epoch 120/250\n",
            "1/1 - 7s - loss: 0.1760 - accuracy: 0.9342 - val_loss: 0.0338 - val_accuracy: 1.0000\n",
            "Epoch 121/250\n",
            "1/1 - 8s - loss: 0.1789 - accuracy: 0.9561 - val_loss: 0.0353 - val_accuracy: 1.0000\n",
            "Epoch 122/250\n",
            "1/1 - 7s - loss: 0.1619 - accuracy: 0.9693 - val_loss: 0.0379 - val_accuracy: 1.0000\n",
            "Epoch 123/250\n",
            "1/1 - 8s - loss: 0.1669 - accuracy: 0.9342 - val_loss: 0.0339 - val_accuracy: 1.0000\n",
            "Epoch 124/250\n",
            "1/1 - 7s - loss: 0.1550 - accuracy: 0.9605 - val_loss: 0.0310 - val_accuracy: 1.0000\n",
            "Epoch 125/250\n",
            "1/1 - 8s - loss: 0.1356 - accuracy: 0.9781 - val_loss: 0.0308 - val_accuracy: 1.0000\n",
            "Epoch 126/250\n",
            "1/1 - 7s - loss: 0.1285 - accuracy: 0.9737 - val_loss: 0.0265 - val_accuracy: 1.0000\n",
            "Epoch 127/250\n",
            "1/1 - 8s - loss: 0.1208 - accuracy: 0.9825 - val_loss: 0.0269 - val_accuracy: 1.0000\n",
            "Epoch 128/250\n",
            "1/1 - 7s - loss: 0.1532 - accuracy: 0.9605 - val_loss: 0.0272 - val_accuracy: 1.0000\n",
            "Epoch 129/250\n",
            "1/1 - 8s - loss: 0.1243 - accuracy: 0.9693 - val_loss: 0.0252 - val_accuracy: 1.0000\n",
            "Epoch 130/250\n",
            "1/1 - 7s - loss: 0.0986 - accuracy: 0.9781 - val_loss: 0.0234 - val_accuracy: 1.0000\n",
            "Epoch 131/250\n",
            "1/1 - 8s - loss: 0.1112 - accuracy: 0.9868 - val_loss: 0.0241 - val_accuracy: 1.0000\n",
            "Epoch 132/250\n",
            "1/1 - 7s - loss: 0.1266 - accuracy: 0.9825 - val_loss: 0.0218 - val_accuracy: 1.0000\n",
            "Epoch 133/250\n",
            "1/1 - 7s - loss: 0.0928 - accuracy: 0.9737 - val_loss: 0.0245 - val_accuracy: 1.0000\n",
            "Epoch 134/250\n",
            "1/1 - 8s - loss: 0.0998 - accuracy: 0.9693 - val_loss: 0.0261 - val_accuracy: 1.0000\n",
            "Epoch 135/250\n",
            "1/1 - 7s - loss: 0.1350 - accuracy: 0.9561 - val_loss: 0.0236 - val_accuracy: 1.0000\n",
            "Epoch 136/250\n",
            "1/1 - 8s - loss: 0.0780 - accuracy: 0.9825 - val_loss: 0.0213 - val_accuracy: 1.0000\n",
            "Epoch 137/250\n",
            "1/1 - 7s - loss: 0.0861 - accuracy: 0.9868 - val_loss: 0.0207 - val_accuracy: 1.0000\n",
            "Epoch 138/250\n",
            "1/1 - 8s - loss: 0.0701 - accuracy: 0.9956 - val_loss: 0.0182 - val_accuracy: 1.0000\n",
            "Epoch 139/250\n",
            "1/1 - 7s - loss: 0.0796 - accuracy: 0.9912 - val_loss: 0.0171 - val_accuracy: 1.0000\n",
            "Epoch 140/250\n",
            "1/1 - 7s - loss: 0.0779 - accuracy: 0.9912 - val_loss: 0.0184 - val_accuracy: 1.0000\n",
            "Epoch 141/250\n",
            "1/1 - 8s - loss: 0.0938 - accuracy: 0.9737 - val_loss: 0.0167 - val_accuracy: 1.0000\n",
            "Epoch 142/250\n",
            "1/1 - 7s - loss: 0.0988 - accuracy: 0.9781 - val_loss: 0.0110 - val_accuracy: 1.0000\n",
            "Epoch 143/250\n",
            "1/1 - 8s - loss: 0.0856 - accuracy: 0.9737 - val_loss: 0.0079 - val_accuracy: 1.0000\n",
            "Epoch 144/250\n",
            "1/1 - 7s - loss: 0.0676 - accuracy: 0.9868 - val_loss: 0.0067 - val_accuracy: 1.0000\n",
            "Epoch 145/250\n",
            "1/1 - 8s - loss: 0.0679 - accuracy: 0.9912 - val_loss: 0.0076 - val_accuracy: 1.0000\n",
            "Epoch 146/250\n",
            "1/1 - 7s - loss: 0.0907 - accuracy: 0.9868 - val_loss: 0.0125 - val_accuracy: 1.0000\n",
            "Epoch 147/250\n",
            "1/1 - 7s - loss: 0.0632 - accuracy: 0.9912 - val_loss: 0.0254 - val_accuracy: 1.0000\n",
            "Epoch 148/250\n",
            "1/1 - 8s - loss: 0.0924 - accuracy: 0.9781 - val_loss: 0.0292 - val_accuracy: 1.0000\n",
            "Epoch 149/250\n",
            "1/1 - 7s - loss: 0.0703 - accuracy: 0.9868 - val_loss: 0.0194 - val_accuracy: 1.0000\n",
            "Epoch 150/250\n",
            "1/1 - 7s - loss: 0.0817 - accuracy: 0.9868 - val_loss: 0.0096 - val_accuracy: 1.0000\n",
            "Epoch 151/250\n",
            "1/1 - 7s - loss: 0.0573 - accuracy: 0.9912 - val_loss: 0.0051 - val_accuracy: 1.0000\n",
            "Epoch 152/250\n",
            "1/1 - 8s - loss: 0.0667 - accuracy: 0.9825 - val_loss: 0.0042 - val_accuracy: 1.0000\n",
            "Epoch 153/250\n",
            "1/1 - 7s - loss: 0.0601 - accuracy: 0.9868 - val_loss: 0.0061 - val_accuracy: 1.0000\n",
            "Epoch 154/250\n",
            "1/1 - 7s - loss: 0.0660 - accuracy: 0.9825 - val_loss: 0.0109 - val_accuracy: 1.0000\n",
            "Epoch 155/250\n",
            "1/1 - 8s - loss: 0.0597 - accuracy: 0.9868 - val_loss: 0.0226 - val_accuracy: 1.0000\n",
            "Epoch 156/250\n",
            "1/1 - 7s - loss: 0.0640 - accuracy: 0.9825 - val_loss: 0.0353 - val_accuracy: 1.0000\n",
            "Epoch 157/250\n",
            "1/1 - 7s - loss: 0.0551 - accuracy: 0.9912 - val_loss: 0.0249 - val_accuracy: 1.0000\n",
            "Epoch 158/250\n",
            "1/1 - 8s - loss: 0.0583 - accuracy: 0.9868 - val_loss: 0.0091 - val_accuracy: 1.0000\n",
            "Epoch 159/250\n",
            "1/1 - 7s - loss: 0.0461 - accuracy: 0.9956 - val_loss: 0.0047 - val_accuracy: 1.0000\n",
            "Epoch 160/250\n",
            "1/1 - 8s - loss: 0.0680 - accuracy: 0.9825 - val_loss: 0.0037 - val_accuracy: 1.0000\n",
            "Epoch 161/250\n",
            "1/1 - 7s - loss: 0.0474 - accuracy: 0.9912 - val_loss: 0.0036 - val_accuracy: 1.0000\n",
            "Epoch 162/250\n",
            "1/1 - 8s - loss: 0.0559 - accuracy: 0.9912 - val_loss: 0.0040 - val_accuracy: 1.0000\n",
            "Epoch 163/250\n",
            "1/1 - 7s - loss: 0.0680 - accuracy: 0.9825 - val_loss: 0.0051 - val_accuracy: 1.0000\n",
            "Epoch 164/250\n",
            "1/1 - 8s - loss: 0.0815 - accuracy: 0.9825 - val_loss: 0.0086 - val_accuracy: 1.0000\n",
            "Epoch 165/250\n",
            "1/1 - 7s - loss: 0.0562 - accuracy: 0.9868 - val_loss: 0.0130 - val_accuracy: 1.0000\n",
            "Epoch 166/250\n",
            "1/1 - 7s - loss: 0.0498 - accuracy: 0.9956 - val_loss: 0.0179 - val_accuracy: 1.0000\n",
            "Epoch 167/250\n",
            "1/1 - 7s - loss: 0.0606 - accuracy: 0.9825 - val_loss: 0.0174 - val_accuracy: 1.0000\n",
            "Epoch 168/250\n",
            "1/1 - 8s - loss: 0.0423 - accuracy: 0.9868 - val_loss: 0.0141 - val_accuracy: 1.0000\n",
            "Epoch 169/250\n",
            "1/1 - 7s - loss: 0.0437 - accuracy: 0.9912 - val_loss: 0.0090 - val_accuracy: 1.0000\n",
            "Epoch 170/250\n",
            "1/1 - 8s - loss: 0.0494 - accuracy: 0.9912 - val_loss: 0.0059 - val_accuracy: 1.0000\n",
            "Epoch 171/250\n",
            "1/1 - 7s - loss: 0.0295 - accuracy: 0.9912 - val_loss: 0.0041 - val_accuracy: 1.0000\n",
            "Epoch 172/250\n",
            "1/1 - 8s - loss: 0.0764 - accuracy: 0.9781 - val_loss: 0.0032 - val_accuracy: 1.0000\n",
            "Epoch 173/250\n",
            "1/1 - 8s - loss: 0.0558 - accuracy: 0.9868 - val_loss: 0.0036 - val_accuracy: 1.0000\n",
            "Epoch 174/250\n",
            "1/1 - 8s - loss: 0.0324 - accuracy: 0.9956 - val_loss: 0.0046 - val_accuracy: 1.0000\n",
            "Epoch 175/250\n",
            "1/1 - 7s - loss: 0.0469 - accuracy: 0.9912 - val_loss: 0.0053 - val_accuracy: 1.0000\n",
            "Epoch 176/250\n",
            "1/1 - 8s - loss: 0.0299 - accuracy: 1.0000 - val_loss: 0.0050 - val_accuracy: 1.0000\n",
            "Epoch 177/250\n",
            "1/1 - 7s - loss: 0.0524 - accuracy: 0.9868 - val_loss: 0.0040 - val_accuracy: 1.0000\n",
            "Epoch 178/250\n",
            "1/1 - 8s - loss: 0.0571 - accuracy: 0.9868 - val_loss: 0.0029 - val_accuracy: 1.0000\n",
            "Epoch 179/250\n",
            "1/1 - 7s - loss: 0.0404 - accuracy: 0.9868 - val_loss: 0.0024 - val_accuracy: 1.0000\n",
            "Epoch 180/250\n",
            "1/1 - 7s - loss: 0.0367 - accuracy: 0.9956 - val_loss: 0.0022 - val_accuracy: 1.0000\n",
            "Epoch 181/250\n",
            "1/1 - 8s - loss: 0.0262 - accuracy: 1.0000 - val_loss: 0.0020 - val_accuracy: 1.0000\n",
            "Epoch 182/250\n",
            "1/1 - 7s - loss: 0.0615 - accuracy: 0.9825 - val_loss: 0.0022 - val_accuracy: 1.0000\n",
            "Epoch 183/250\n",
            "1/1 - 8s - loss: 0.0382 - accuracy: 0.9912 - val_loss: 0.0027 - val_accuracy: 1.0000\n",
            "Epoch 184/250\n",
            "1/1 - 7s - loss: 0.0340 - accuracy: 0.9956 - val_loss: 0.0035 - val_accuracy: 1.0000\n",
            "Epoch 185/250\n",
            "1/1 - 8s - loss: 0.0382 - accuracy: 0.9912 - val_loss: 0.0039 - val_accuracy: 1.0000\n",
            "Epoch 186/250\n",
            "1/1 - 7s - loss: 0.0367 - accuracy: 0.9912 - val_loss: 0.0033 - val_accuracy: 1.0000\n",
            "Epoch 187/250\n",
            "1/1 - 7s - loss: 0.0451 - accuracy: 1.0000 - val_loss: 0.0021 - val_accuracy: 1.0000\n",
            "Epoch 188/250\n",
            "1/1 - 8s - loss: 0.0161 - accuracy: 1.0000 - val_loss: 0.0016 - val_accuracy: 1.0000\n",
            "Epoch 189/250\n",
            "1/1 - 7s - loss: 0.0542 - accuracy: 0.9912 - val_loss: 0.0016 - val_accuracy: 1.0000\n",
            "Epoch 190/250\n",
            "1/1 - 7s - loss: 0.0336 - accuracy: 0.9956 - val_loss: 0.0016 - val_accuracy: 1.0000\n",
            "Epoch 191/250\n",
            "1/1 - 8s - loss: 0.0154 - accuracy: 1.0000 - val_loss: 0.0017 - val_accuracy: 1.0000\n",
            "Epoch 192/250\n",
            "1/1 - 7s - loss: 0.0220 - accuracy: 1.0000 - val_loss: 0.0019 - val_accuracy: 1.0000\n",
            "Epoch 193/250\n",
            "1/1 - 7s - loss: 0.0198 - accuracy: 0.9956 - val_loss: 0.0021 - val_accuracy: 1.0000\n",
            "Epoch 194/250\n",
            "1/1 - 8s - loss: 0.0317 - accuracy: 0.9956 - val_loss: 0.0022 - val_accuracy: 1.0000\n",
            "Epoch 195/250\n",
            "1/1 - 7s - loss: 0.0236 - accuracy: 1.0000 - val_loss: 0.0021 - val_accuracy: 1.0000\n",
            "Epoch 196/250\n",
            "1/1 - 8s - loss: 0.0394 - accuracy: 0.9956 - val_loss: 0.0022 - val_accuracy: 1.0000\n",
            "Epoch 197/250\n",
            "1/1 - 7s - loss: 0.0281 - accuracy: 0.9956 - val_loss: 0.0021 - val_accuracy: 1.0000\n",
            "Epoch 198/250\n",
            "1/1 - 7s - loss: 0.0284 - accuracy: 0.9956 - val_loss: 0.0021 - val_accuracy: 1.0000\n",
            "Epoch 199/250\n",
            "1/1 - 7s - loss: 0.0414 - accuracy: 0.9868 - val_loss: 0.0021 - val_accuracy: 1.0000\n",
            "Epoch 200/250\n",
            "1/1 - 7s - loss: 0.0279 - accuracy: 0.9956 - val_loss: 0.0022 - val_accuracy: 1.0000\n",
            "Epoch 201/250\n",
            "1/1 - 8s - loss: 0.0340 - accuracy: 0.9912 - val_loss: 0.0021 - val_accuracy: 1.0000\n",
            "Epoch 202/250\n",
            "1/1 - 7s - loss: 0.0173 - accuracy: 1.0000 - val_loss: 0.0021 - val_accuracy: 1.0000\n",
            "Epoch 203/250\n",
            "1/1 - 8s - loss: 0.0179 - accuracy: 1.0000 - val_loss: 0.0020 - val_accuracy: 1.0000\n",
            "Epoch 204/250\n",
            "1/1 - 7s - loss: 0.0263 - accuracy: 0.9956 - val_loss: 0.0021 - val_accuracy: 1.0000\n",
            "Epoch 205/250\n",
            "1/1 - 7s - loss: 0.0175 - accuracy: 1.0000 - val_loss: 0.0022 - val_accuracy: 1.0000\n",
            "Epoch 206/250\n",
            "1/1 - 7s - loss: 0.0198 - accuracy: 1.0000 - val_loss: 0.0021 - val_accuracy: 1.0000\n",
            "Epoch 207/250\n",
            "1/1 - 8s - loss: 0.0162 - accuracy: 0.9956 - val_loss: 0.0020 - val_accuracy: 1.0000\n",
            "Epoch 208/250\n",
            "1/1 - 7s - loss: 0.0263 - accuracy: 0.9912 - val_loss: 0.0017 - val_accuracy: 1.0000\n",
            "Epoch 209/250\n",
            "1/1 - 8s - loss: 0.0207 - accuracy: 0.9956 - val_loss: 0.0015 - val_accuracy: 1.0000\n",
            "Epoch 210/250\n",
            "1/1 - 7s - loss: 0.0152 - accuracy: 0.9956 - val_loss: 0.0015 - val_accuracy: 1.0000\n",
            "Epoch 211/250\n",
            "1/1 - 8s - loss: 0.0180 - accuracy: 0.9956 - val_loss: 0.0017 - val_accuracy: 1.0000\n",
            "Epoch 212/250\n",
            "1/1 - 7s - loss: 0.0321 - accuracy: 0.9868 - val_loss: 0.0018 - val_accuracy: 1.0000\n",
            "Epoch 213/250\n",
            "1/1 - 8s - loss: 0.0190 - accuracy: 1.0000 - val_loss: 0.0018 - val_accuracy: 1.0000\n",
            "Epoch 214/250\n",
            "1/1 - 7s - loss: 0.0164 - accuracy: 1.0000 - val_loss: 0.0015 - val_accuracy: 1.0000\n",
            "Epoch 215/250\n",
            "1/1 - 7s - loss: 0.0135 - accuracy: 0.9956 - val_loss: 0.0015 - val_accuracy: 1.0000\n",
            "Epoch 216/250\n",
            "1/1 - 8s - loss: 0.0216 - accuracy: 0.9956 - val_loss: 0.0012 - val_accuracy: 1.0000\n",
            "Epoch 217/250\n",
            "1/1 - 7s - loss: 0.0120 - accuracy: 1.0000 - val_loss: 8.7096e-04 - val_accuracy: 1.0000\n",
            "Epoch 218/250\n",
            "1/1 - 8s - loss: 0.0279 - accuracy: 0.9956 - val_loss: 9.3406e-04 - val_accuracy: 1.0000\n",
            "Epoch 219/250\n",
            "1/1 - 7s - loss: 0.0193 - accuracy: 1.0000 - val_loss: 0.0012 - val_accuracy: 1.0000\n",
            "Epoch 220/250\n",
            "1/1 - 7s - loss: 0.0143 - accuracy: 1.0000 - val_loss: 0.0014 - val_accuracy: 1.0000\n",
            "Epoch 221/250\n",
            "1/1 - 8s - loss: 0.0185 - accuracy: 0.9956 - val_loss: 0.0016 - val_accuracy: 1.0000\n",
            "Epoch 222/250\n",
            "1/1 - 7s - loss: 0.0164 - accuracy: 0.9956 - val_loss: 0.0021 - val_accuracy: 1.0000\n",
            "Epoch 223/250\n",
            "1/1 - 7s - loss: 0.0169 - accuracy: 0.9956 - val_loss: 0.0025 - val_accuracy: 1.0000\n",
            "Epoch 224/250\n",
            "1/1 - 7s - loss: 0.0157 - accuracy: 0.9956 - val_loss: 0.0024 - val_accuracy: 1.0000\n",
            "Epoch 225/250\n",
            "1/1 - 8s - loss: 0.0238 - accuracy: 0.9912 - val_loss: 0.0025 - val_accuracy: 1.0000\n",
            "Epoch 226/250\n",
            "1/1 - 7s - loss: 0.0136 - accuracy: 1.0000 - val_loss: 0.0025 - val_accuracy: 1.0000\n",
            "Epoch 227/250\n",
            "1/1 - 8s - loss: 0.0302 - accuracy: 0.9912 - val_loss: 0.0027 - val_accuracy: 1.0000\n",
            "Epoch 228/250\n",
            "1/1 - 7s - loss: 0.0180 - accuracy: 0.9956 - val_loss: 0.0032 - val_accuracy: 1.0000\n",
            "Epoch 229/250\n",
            "1/1 - 7s - loss: 0.0138 - accuracy: 1.0000 - val_loss: 0.0029 - val_accuracy: 1.0000\n",
            "Epoch 230/250\n",
            "1/1 - 7s - loss: 0.0200 - accuracy: 0.9956 - val_loss: 0.0022 - val_accuracy: 1.0000\n",
            "Epoch 231/250\n",
            "1/1 - 7s - loss: 0.0160 - accuracy: 0.9956 - val_loss: 0.0014 - val_accuracy: 1.0000\n",
            "Epoch 232/250\n",
            "1/1 - 8s - loss: 0.0134 - accuracy: 1.0000 - val_loss: 9.7327e-04 - val_accuracy: 1.0000\n",
            "Epoch 233/250\n",
            "1/1 - 7s - loss: 0.0156 - accuracy: 1.0000 - val_loss: 7.8119e-04 - val_accuracy: 1.0000\n",
            "Epoch 234/250\n",
            "1/1 - 8s - loss: 0.0155 - accuracy: 1.0000 - val_loss: 6.5527e-04 - val_accuracy: 1.0000\n",
            "Epoch 235/250\n",
            "1/1 - 7s - loss: 0.0183 - accuracy: 1.0000 - val_loss: 5.7593e-04 - val_accuracy: 1.0000\n",
            "Epoch 236/250\n",
            "1/1 - 8s - loss: 0.0187 - accuracy: 1.0000 - val_loss: 5.8701e-04 - val_accuracy: 1.0000\n",
            "Epoch 237/250\n",
            "1/1 - 7s - loss: 0.0141 - accuracy: 0.9956 - val_loss: 5.8497e-04 - val_accuracy: 1.0000\n",
            "Epoch 238/250\n",
            "1/1 - 8s - loss: 0.0182 - accuracy: 0.9912 - val_loss: 5.8949e-04 - val_accuracy: 1.0000\n",
            "Epoch 239/250\n",
            "1/1 - 7s - loss: 0.0126 - accuracy: 0.9956 - val_loss: 6.1391e-04 - val_accuracy: 1.0000\n",
            "Epoch 240/250\n",
            "1/1 - 8s - loss: 0.0185 - accuracy: 1.0000 - val_loss: 6.0008e-04 - val_accuracy: 1.0000\n",
            "Epoch 241/250\n",
            "1/1 - 7s - loss: 0.0257 - accuracy: 0.9912 - val_loss: 4.5390e-04 - val_accuracy: 1.0000\n",
            "Epoch 242/250\n",
            "1/1 - 8s - loss: 0.0130 - accuracy: 1.0000 - val_loss: 3.4909e-04 - val_accuracy: 1.0000\n",
            "Epoch 243/250\n",
            "1/1 - 7s - loss: 0.0218 - accuracy: 0.9912 - val_loss: 3.1970e-04 - val_accuracy: 1.0000\n",
            "Epoch 244/250\n",
            "1/1 - 8s - loss: 0.0107 - accuracy: 1.0000 - val_loss: 3.0452e-04 - val_accuracy: 1.0000\n",
            "Epoch 245/250\n",
            "1/1 - 7s - loss: 0.0111 - accuracy: 1.0000 - val_loss: 3.0927e-04 - val_accuracy: 1.0000\n",
            "Epoch 246/250\n",
            "1/1 - 8s - loss: 0.0087 - accuracy: 1.0000 - val_loss: 3.1670e-04 - val_accuracy: 1.0000\n",
            "Epoch 247/250\n",
            "1/1 - 7s - loss: 0.0227 - accuracy: 0.9956 - val_loss: 3.5984e-04 - val_accuracy: 1.0000\n",
            "Epoch 248/250\n",
            "1/1 - 7s - loss: 0.0137 - accuracy: 0.9956 - val_loss: 4.2563e-04 - val_accuracy: 1.0000\n",
            "Epoch 249/250\n",
            "1/1 - 7s - loss: 0.0124 - accuracy: 1.0000 - val_loss: 5.3925e-04 - val_accuracy: 1.0000\n",
            "Epoch 250/250\n",
            "1/1 - 8s - loss: 0.0110 - accuracy: 1.0000 - val_loss: 7.4284e-04 - val_accuracy: 1.0000\n"
          ]
        }
      ]
    },
    {
      "cell_type": "markdown",
      "metadata": {
        "id": "uNq48dYLUgUF"
      },
      "source": [
        "**7. Plot the result**"
      ]
    },
    {
      "cell_type": "code",
      "metadata": {
        "colab": {
          "base_uri": "https://localhost:8080/",
          "height": 591
        },
        "id": "kQxNrBGeSGr-",
        "outputId": "abe423cd-ac44-4206-8690-a698c979f109"
      },
      "source": [
        "# list all data in history\n",
        "print(history.history.keys())\n",
        "# summarize history for accuracy\n",
        "plt.plot(history.history['accuracy'])\n",
        "plt.plot(history.history['val_accuracy'])\n",
        "plt.title('model accuracy')\n",
        "plt.ylabel('accuracy')\n",
        "plt.xlabel('epoch')\n",
        "plt.legend(['train', 'test'], loc='upper left')\n",
        "plt.show()\n",
        "\n",
        "# summarize history for loss\n",
        "plt.plot(history.history['loss'])\n",
        "plt.plot(history.history['val_loss'])\n",
        "plt.title('model loss')\n",
        "plt.ylabel('loss')\n",
        "plt.xlabel('epoch')\n",
        "plt.legend(['train', 'test'], loc='upper left')\n",
        "plt.show()"
      ],
      "execution_count": 10,
      "outputs": [
        {
          "output_type": "stream",
          "name": "stdout",
          "text": [
            "dict_keys(['loss', 'accuracy', 'val_loss', 'val_accuracy'])\n"
          ]
        },
        {
          "output_type": "display_data",
          "data": {
            "image/png": "[encoded data removed]",
            "text/plain": [
              "<Figure size 432x288 with 1 Axes>"
            ]
          },
          "metadata": {
            "needs_background": "light"
          }
        },
        {
          "output_type": "display_data",
          "data": {
            "image/png": "[encoded data removed]",
            "text/plain": [
              "<Figure size 432x288 with 1 Axes>"
            ]
          },
          "metadata": {
            "needs_background": "light"
          }
        }
      ]
    },
    {
      "cell_type": "markdown",
      "metadata": {
        "id": "gt6t535RUmkg"
      },
      "source": [
        "**8. Iterate the model until the accuracy is above 90%**"
      ]
    },
    {
      "cell_type": "code",
      "metadata": {
        "colab": {
          "base_uri": "https://localhost:8080/"
        },
        "id": "cz4NlroLSGuw",
        "outputId": "82b10dee-eeb3-4e4a-9984-9ea7136a1150"
      },
      "source": [
        "scor = cnn_model.evaluate( np.array(x_test),  np.array(y_test), verbose=0)\n",
        "print('test los {:.4f}'.format(scor[0]))\n",
        "print('test acc {:.4f}'.format(scor[1]))"
      ],
      "execution_count": 11,
      "outputs": [
        {
          "output_type": "stream",
          "name": "stdout",
          "text": [
            "test los 0.0007\n",
            "test acc 1.0000\n"
          ]
        }
      ]
    },
    {
      "cell_type": "markdown",
      "metadata": {
        "id": "Zy4c_Ls7azA5"
      },
      "source": [
        "The accuracy is above 90%"
      ]
    }
  ]
}