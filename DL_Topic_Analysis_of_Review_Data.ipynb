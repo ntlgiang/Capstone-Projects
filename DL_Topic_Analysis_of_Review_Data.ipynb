{
  "nbformat": 4,
  "nbformat_minor": 0,
  "metadata": {
    "colab": {
      "name": "DL_Topic Analysis of Review Data.ipynb",
      "provenance": [],
      "collapsed_sections": [],
      "mount_file_id": "1zfVVQDAtbFxEA9VP93tB2gfSVYkF1JTa",
      "authorship_tag": "ABX9TyMxc6CwN6Y2bUWsmWFcqWI1",
      "include_colab_link": true
    },
    "kernelspec": {
      "name": "python3",
      "display_name": "Python 3"
    },
    "language_info": {
      "name": "python"
    }
  },
  "cells": [
    {
      "cell_type": "markdown",
      "metadata": {
        "id": "view-in-github",
        "colab_type": "text"
      },
      "source": [
        "<a href=\"https://colab.research.google.com/github/ntlgiang/Capstone-Projects/blob/master/DL_Topic_Analysis_of_Review_Data.ipynb\" target=\"_parent\"><img src=\"https://colab.research.google.com/assets/colab-badge.svg\" alt=\"Open In Colab\"/></a>"
      ]
    },
    {
      "cell_type": "markdown",
      "metadata": {
        "id": "fydXi8cvEizF"
      },
      "source": [
        "## **Topic Analysis of Review Data**"
      ]
    },
    {
      "cell_type": "code",
      "metadata": {
        "colab": {
          "base_uri": "https://localhost:8080/"
        },
        "id": "Nr664LA98z-C",
        "outputId": "87b54719-e220-4493-f598-4a75ca3e1468"
      },
      "source": [
        "import nltk\n",
        "nltk.download('stopwords')\n",
        "nltk.download('punkt')\n",
        "nltk.download('wordnet')"
      ],
      "execution_count": 1,
      "outputs": [
        {
          "output_type": "stream",
          "name": "stdout",
          "text": [
            "[nltk_data] Downloading package stopwords to /root/nltk_data...\n",
            "[nltk_data]   Package stopwords is already up-to-date!\n",
            "[nltk_data] Downloading package punkt to /root/nltk_data...\n",
            "[nltk_data]   Package punkt is already up-to-date!\n",
            "[nltk_data] Downloading package wordnet to /root/nltk_data...\n",
            "[nltk_data]   Package wordnet is already up-to-date!\n"
          ]
        },
        {
          "output_type": "execute_result",
          "data": {
            "text/plain": [
              "True"
            ]
          },
          "metadata": {},
          "execution_count": 1
        }
      ]
    },
    {
      "cell_type": "code",
      "metadata": {
        "id": "9qTgZk0e9FkW"
      },
      "source": [
        "import pandas as pd\n",
        "import numpy as np\n",
        "import matplotlib.pyplot as plt"
      ],
      "execution_count": 2,
      "outputs": []
    },
    {
      "cell_type": "code",
      "metadata": {
        "id": "NnJv6vIA9Foj"
      },
      "source": [
        "from nltk.corpus import stopwords\n",
        "from nltk.tokenize import word_tokenize\n",
        "from nltk.tokenize import sent_tokenize"
      ],
      "execution_count": 3,
      "outputs": []
    },
    {
      "cell_type": "markdown",
      "metadata": {
        "id": "7C4bwBia9LcP"
      },
      "source": [
        "**1. Read the .csv file using Pandas. Take a look at the top few record**"
      ]
    },
    {
      "cell_type": "code",
      "metadata": {
        "colab": {
          "base_uri": "https://localhost:8080/",
          "height": 204
        },
        "id": "b44el4Nq9Frl",
        "outputId": "5efc9d88-37ef-40e8-ba95-6a9d2fcdea97"
      },
      "source": [
        "dataset = pd.read_csv('/content/drive/MyDrive/Colab Notebooks/Dataset/Topic Analysis of Review Data/K8 Reviews v0.2.csv')\n",
        "dataset.head()"
      ],
      "execution_count": 4,
      "outputs": [
        {
          "output_type": "execute_result",
          "data": {
            "text/html": [
              "<div>\n",
              "<style scoped>\n",
              "    .dataframe tbody tr th:only-of-type {\n",
              "        vertical-align: middle;\n",
              "    }\n",
              "\n",
              "    .dataframe tbody tr th {\n",
              "        vertical-align: top;\n",
              "    }\n",
              "\n",
              "    .dataframe thead th {\n",
              "        text-align: right;\n",
              "    }\n",
              "</style>\n",
              "<table border=\"1\" class=\"dataframe\">\n",
              "  <thead>\n",
              "    <tr style=\"text-align: right;\">\n",
              "      <th></th>\n",
              "      <th>sentiment</th>\n",
              "      <th>review</th>\n",
              "    </tr>\n",
              "  </thead>\n",
              "  <tbody>\n",
              "    <tr>\n",
              "      <th>0</th>\n",
              "      <td>1</td>\n",
              "      <td>Good but need updates and improvements</td>\n",
              "    </tr>\n",
              "    <tr>\n",
              "      <th>1</th>\n",
              "      <td>0</td>\n",
              "      <td>Worst mobile i have bought ever, Battery is dr...</td>\n",
              "    </tr>\n",
              "    <tr>\n",
              "      <th>2</th>\n",
              "      <td>1</td>\n",
              "      <td>when I will get my 10% cash back.... its alrea...</td>\n",
              "    </tr>\n",
              "    <tr>\n",
              "      <th>3</th>\n",
              "      <td>1</td>\n",
              "      <td>Good</td>\n",
              "    </tr>\n",
              "    <tr>\n",
              "      <th>4</th>\n",
              "      <td>0</td>\n",
              "      <td>The worst phone everThey have changed the last...</td>\n",
              "    </tr>\n",
              "  </tbody>\n",
              "</table>\n",
              "</div>"
            ],
            "text/plain": [
              "   sentiment                                             review\n",
              "0          1             Good but need updates and improvements\n",
              "1          0  Worst mobile i have bought ever, Battery is dr...\n",
              "2          1  when I will get my 10% cash back.... its alrea...\n",
              "3          1                                               Good\n",
              "4          0  The worst phone everThey have changed the last..."
            ]
          },
          "metadata": {},
          "execution_count": 4
        }
      ]
    },
    {
      "cell_type": "markdown",
      "metadata": {
        "id": "D_l0ai1C9p-M"
      },
      "source": [
        "**2. Normalize casings for the review text and extract the text into a list for easier manipulation**"
      ]
    },
    {
      "cell_type": "code",
      "metadata": {
        "colab": {
          "base_uri": "https://localhost:8080/"
        },
        "id": "dmUHnHyY9FuQ",
        "outputId": "6633eed9-6047-4702-d961-a076d7c82283"
      },
      "source": [
        "dataset.shape"
      ],
      "execution_count": 5,
      "outputs": [
        {
          "output_type": "execute_result",
          "data": {
            "text/plain": [
              "(14675, 2)"
            ]
          },
          "metadata": {},
          "execution_count": 5
        }
      ]
    },
    {
      "cell_type": "code",
      "metadata": {
        "id": "FV_Ymzwo9Fwy"
      },
      "source": [
        "dataset['review'] = dataset['review'].str.lower()"
      ],
      "execution_count": 6,
      "outputs": []
    },
    {
      "cell_type": "code",
      "metadata": {
        "colab": {
          "base_uri": "https://localhost:8080/"
        },
        "id": "E-TYoDms9FzS",
        "outputId": "e2a2b591-6794-47c0-ae0b-a5d4023359a4"
      },
      "source": [
        "dataset['review'].head()"
      ],
      "execution_count": 7,
      "outputs": [
        {
          "output_type": "execute_result",
          "data": {
            "text/plain": [
              "0               good but need updates and improvements\n",
              "1    worst mobile i have bought ever, battery is dr...\n",
              "2    when i will get my 10% cash back.... its alrea...\n",
              "3                                                 good\n",
              "4    the worst phone everthey have changed the last...\n",
              "Name: review, dtype: object"
            ]
          },
          "metadata": {},
          "execution_count": 7
        }
      ]
    },
    {
      "cell_type": "code",
      "metadata": {
        "colab": {
          "base_uri": "https://localhost:8080/",
          "height": 36
        },
        "id": "GjSxa7lK-2Ia",
        "outputId": "16a02847-031a-44aa-b971-740d18c7d5c5"
      },
      "source": [
        "dataset['review'][0]"
      ],
      "execution_count": 8,
      "outputs": [
        {
          "output_type": "execute_result",
          "data": {
            "application/vnd.google.colaboratory.intrinsic+json": {
              "type": "string"
            },
            "text/plain": [
              "'good but need updates and improvements'"
            ]
          },
          "metadata": {},
          "execution_count": 8
        }
      ]
    },
    {
      "cell_type": "code",
      "metadata": {
        "colab": {
          "base_uri": "https://localhost:8080/",
          "height": 36
        },
        "id": "09AphhDI-2LF",
        "outputId": "e4e49ef6-9f87-4581-859b-e01a4f769d47"
      },
      "source": [
        "reviews_lower = [sent.lower() for sent in dataset.review.values]\n",
        "reviews_lower[0]"
      ],
      "execution_count": 10,
      "outputs": [
        {
          "output_type": "execute_result",
          "data": {
            "application/vnd.google.colaboratory.intrinsic+json": {
              "type": "string"
            },
            "text/plain": [
              "'good but need updates and improvements'"
            ]
          },
          "metadata": {},
          "execution_count": 10
        }
      ]
    },
    {
      "cell_type": "markdown",
      "metadata": {
        "id": "ErfGK3kOAEbN"
      },
      "source": [
        "**3. Tokenize the reviews using NLTKs word_tokenize function.**"
      ]
    },
    {
      "cell_type": "code",
      "metadata": {
        "colab": {
          "base_uri": "https://localhost:8080/"
        },
        "id": "3gkPQh_I-2Nr",
        "outputId": "732efca3-bb43-4814-c7c6-9e26c26d1ec9"
      },
      "source": [
        "token = [word_tokenize(sent) for sent in reviews_lower]\n",
        "token[0]"
      ],
      "execution_count": 11,
      "outputs": [
        {
          "output_type": "execute_result",
          "data": {
            "text/plain": [
              "['good', 'but', 'need', 'updates', 'and', 'improvements']"
            ]
          },
          "metadata": {},
          "execution_count": 11
        }
      ]
    },
    {
      "cell_type": "code",
      "metadata": {
        "colab": {
          "base_uri": "https://localhost:8080/"
        },
        "id": "nasA5rEzAXXz",
        "outputId": "93a77fd1-c991-4379-a6d1-b3c57edc436d"
      },
      "source": [
        "nltk.download('brown')\n",
        "nltk.download('averaged_perceptron_tagger')"
      ],
      "execution_count": 12,
      "outputs": [
        {
          "output_type": "stream",
          "name": "stdout",
          "text": [
            "[nltk_data] Downloading package brown to /root/nltk_data...\n",
            "[nltk_data]   Package brown is already up-to-date!\n",
            "[nltk_data] Downloading package averaged_perceptron_tagger to\n",
            "[nltk_data]     /root/nltk_data...\n",
            "[nltk_data]   Package averaged_perceptron_tagger is already up-to-\n",
            "[nltk_data]       date!\n"
          ]
        },
        {
          "output_type": "execute_result",
          "data": {
            "text/plain": [
              "True"
            ]
          },
          "metadata": {},
          "execution_count": 12
        }
      ]
    },
    {
      "cell_type": "markdown",
      "metadata": {
        "id": "fT85J4BQAQTM"
      },
      "source": [
        "**4. Perform parts-of-speech tagging on each sentence using the NLTK POS tagger.**"
      ]
    },
    {
      "cell_type": "code",
      "metadata": {
        "colab": {
          "base_uri": "https://localhost:8080/"
        },
        "id": "zfYHwKwP-2Qd",
        "outputId": "9f10190e-6222-4ed5-fc65-245e1dcbd7fe"
      },
      "source": [
        "nltk.pos_tag(token[0])"
      ],
      "execution_count": 13,
      "outputs": [
        {
          "output_type": "execute_result",
          "data": {
            "text/plain": [
              "[('good', 'JJ'),\n",
              " ('but', 'CC'),\n",
              " ('need', 'VBP'),\n",
              " ('updates', 'NNS'),\n",
              " ('and', 'CC'),\n",
              " ('improvements', 'NNS')]"
            ]
          },
          "metadata": {},
          "execution_count": 13
        }
      ]
    },
    {
      "cell_type": "code",
      "metadata": {
        "id": "Ez6LSHD9-2S_"
      },
      "source": [
        "pos_tag = [nltk.pos_tag(wtoken) for wtoken in token]"
      ],
      "execution_count": 14,
      "outputs": []
    },
    {
      "cell_type": "code",
      "metadata": {
        "colab": {
          "base_uri": "https://localhost:8080/",
          "height": 336
        },
        "id": "wcPw9Nb7A_d4",
        "outputId": "e5cc7777-41e1-4f5c-a23f-76b54f611ca3"
      },
      "source": [
        "pd.DataFrame(pos_tag).head(5)"
      ],
      "execution_count": 15,
      "outputs": [
        {
          "output_type": "execute_result",
          "data": {
            "text/html": [
              "<div>\n",
              "<style scoped>\n",
              "    .dataframe tbody tr th:only-of-type {\n",
              "        vertical-align: middle;\n",
              "    }\n",
              "\n",
              "    .dataframe tbody tr th {\n",
              "        vertical-align: top;\n",
              "    }\n",
              "\n",
              "    .dataframe thead th {\n",
              "        text-align: right;\n",
              "    }\n",
              "</style>\n",
              "<table border=\"1\" class=\"dataframe\">\n",
              "  <thead>\n",
              "    <tr style=\"text-align: right;\">\n",
              "      <th></th>\n",
              "      <th>0</th>\n",
              "      <th>1</th>\n",
              "      <th>2</th>\n",
              "      <th>3</th>\n",
              "      <th>4</th>\n",
              "      <th>5</th>\n",
              "      <th>6</th>\n",
              "      <th>7</th>\n",
              "      <th>8</th>\n",
              "      <th>9</th>\n",
              "      <th>10</th>\n",
              "      <th>11</th>\n",
              "      <th>12</th>\n",
              "      <th>13</th>\n",
              "      <th>14</th>\n",
              "      <th>15</th>\n",
              "      <th>16</th>\n",
              "      <th>17</th>\n",
              "      <th>18</th>\n",
              "      <th>19</th>\n",
              "      <th>20</th>\n",
              "      <th>21</th>\n",
              "      <th>22</th>\n",
              "      <th>23</th>\n",
              "      <th>24</th>\n",
              "      <th>25</th>\n",
              "      <th>26</th>\n",
              "      <th>27</th>\n",
              "      <th>28</th>\n",
              "      <th>29</th>\n",
              "      <th>30</th>\n",
              "      <th>31</th>\n",
              "      <th>32</th>\n",
              "      <th>33</th>\n",
              "      <th>34</th>\n",
              "      <th>35</th>\n",
              "      <th>36</th>\n",
              "      <th>37</th>\n",
              "      <th>38</th>\n",
              "      <th>39</th>\n",
              "      <th>...</th>\n",
              "      <th>778</th>\n",
              "      <th>779</th>\n",
              "      <th>780</th>\n",
              "      <th>781</th>\n",
              "      <th>782</th>\n",
              "      <th>783</th>\n",
              "      <th>784</th>\n",
              "      <th>785</th>\n",
              "      <th>786</th>\n",
              "      <th>787</th>\n",
              "      <th>788</th>\n",
              "      <th>789</th>\n",
              "      <th>790</th>\n",
              "      <th>791</th>\n",
              "      <th>792</th>\n",
              "      <th>793</th>\n",
              "      <th>794</th>\n",
              "      <th>795</th>\n",
              "      <th>796</th>\n",
              "      <th>797</th>\n",
              "      <th>798</th>\n",
              "      <th>799</th>\n",
              "      <th>800</th>\n",
              "      <th>801</th>\n",
              "      <th>802</th>\n",
              "      <th>803</th>\n",
              "      <th>804</th>\n",
              "      <th>805</th>\n",
              "      <th>806</th>\n",
              "      <th>807</th>\n",
              "      <th>808</th>\n",
              "      <th>809</th>\n",
              "      <th>810</th>\n",
              "      <th>811</th>\n",
              "      <th>812</th>\n",
              "      <th>813</th>\n",
              "      <th>814</th>\n",
              "      <th>815</th>\n",
              "      <th>816</th>\n",
              "      <th>817</th>\n",
              "    </tr>\n",
              "  </thead>\n",
              "  <tbody>\n",
              "    <tr>\n",
              "      <th>0</th>\n",
              "      <td>(good, JJ)</td>\n",
              "      <td>(but, CC)</td>\n",
              "      <td>(need, VBP)</td>\n",
              "      <td>(updates, NNS)</td>\n",
              "      <td>(and, CC)</td>\n",
              "      <td>(improvements, NNS)</td>\n",
              "      <td>None</td>\n",
              "      <td>None</td>\n",
              "      <td>None</td>\n",
              "      <td>None</td>\n",
              "      <td>None</td>\n",
              "      <td>None</td>\n",
              "      <td>None</td>\n",
              "      <td>None</td>\n",
              "      <td>None</td>\n",
              "      <td>None</td>\n",
              "      <td>None</td>\n",
              "      <td>None</td>\n",
              "      <td>None</td>\n",
              "      <td>None</td>\n",
              "      <td>None</td>\n",
              "      <td>None</td>\n",
              "      <td>None</td>\n",
              "      <td>None</td>\n",
              "      <td>None</td>\n",
              "      <td>None</td>\n",
              "      <td>None</td>\n",
              "      <td>None</td>\n",
              "      <td>None</td>\n",
              "      <td>None</td>\n",
              "      <td>None</td>\n",
              "      <td>None</td>\n",
              "      <td>None</td>\n",
              "      <td>None</td>\n",
              "      <td>None</td>\n",
              "      <td>None</td>\n",
              "      <td>None</td>\n",
              "      <td>None</td>\n",
              "      <td>None</td>\n",
              "      <td>None</td>\n",
              "      <td>...</td>\n",
              "      <td>None</td>\n",
              "      <td>None</td>\n",
              "      <td>None</td>\n",
              "      <td>None</td>\n",
              "      <td>None</td>\n",
              "      <td>None</td>\n",
              "      <td>None</td>\n",
              "      <td>None</td>\n",
              "      <td>None</td>\n",
              "      <td>None</td>\n",
              "      <td>None</td>\n",
              "      <td>None</td>\n",
              "      <td>None</td>\n",
              "      <td>None</td>\n",
              "      <td>None</td>\n",
              "      <td>None</td>\n",
              "      <td>None</td>\n",
              "      <td>None</td>\n",
              "      <td>None</td>\n",
              "      <td>None</td>\n",
              "      <td>None</td>\n",
              "      <td>None</td>\n",
              "      <td>None</td>\n",
              "      <td>None</td>\n",
              "      <td>None</td>\n",
              "      <td>None</td>\n",
              "      <td>None</td>\n",
              "      <td>None</td>\n",
              "      <td>None</td>\n",
              "      <td>None</td>\n",
              "      <td>None</td>\n",
              "      <td>None</td>\n",
              "      <td>None</td>\n",
              "      <td>None</td>\n",
              "      <td>None</td>\n",
              "      <td>None</td>\n",
              "      <td>None</td>\n",
              "      <td>None</td>\n",
              "      <td>None</td>\n",
              "      <td>None</td>\n",
              "    </tr>\n",
              "    <tr>\n",
              "      <th>1</th>\n",
              "      <td>(worst, JJS)</td>\n",
              "      <td>(mobile, NN)</td>\n",
              "      <td>(i, NN)</td>\n",
              "      <td>(have, VBP)</td>\n",
              "      <td>(bought, VBN)</td>\n",
              "      <td>(ever, RB)</td>\n",
              "      <td>(,, ,)</td>\n",
              "      <td>(battery, NN)</td>\n",
              "      <td>(is, VBZ)</td>\n",
              "      <td>(draining, VBG)</td>\n",
              "      <td>(like, IN)</td>\n",
              "      <td>(hell, NN)</td>\n",
              "      <td>(,, ,)</td>\n",
              "      <td>(backup, NN)</td>\n",
              "      <td>(is, VBZ)</td>\n",
              "      <td>(only, RB)</td>\n",
              "      <td>(6, CD)</td>\n",
              "      <td>(to, TO)</td>\n",
              "      <td>(7, CD)</td>\n",
              "      <td>(hours, NNS)</td>\n",
              "      <td>(with, IN)</td>\n",
              "      <td>(internet, JJ)</td>\n",
              "      <td>(uses, NNS)</td>\n",
              "      <td>(,, ,)</td>\n",
              "      <td>(even, RB)</td>\n",
              "      <td>(if, IN)</td>\n",
              "      <td>(i, JJ)</td>\n",
              "      <td>(put, VBP)</td>\n",
              "      <td>(mobile, JJ)</td>\n",
              "      <td>(idle, NN)</td>\n",
              "      <td>(its, PRP$)</td>\n",
              "      <td>(getting, VBG)</td>\n",
              "      <td>(discharged.this, NN)</td>\n",
              "      <td>(is, VBZ)</td>\n",
              "      <td>(biggest, JJS)</td>\n",
              "      <td>(lie, NN)</td>\n",
              "      <td>(from, IN)</td>\n",
              "      <td>(amazon, NN)</td>\n",
              "      <td>(&amp;, CC)</td>\n",
              "      <td>(lenove, NN)</td>\n",
              "      <td>...</td>\n",
              "      <td>None</td>\n",
              "      <td>None</td>\n",
              "      <td>None</td>\n",
              "      <td>None</td>\n",
              "      <td>None</td>\n",
              "      <td>None</td>\n",
              "      <td>None</td>\n",
              "      <td>None</td>\n",
              "      <td>None</td>\n",
              "      <td>None</td>\n",
              "      <td>None</td>\n",
              "      <td>None</td>\n",
              "      <td>None</td>\n",
              "      <td>None</td>\n",
              "      <td>None</td>\n",
              "      <td>None</td>\n",
              "      <td>None</td>\n",
              "      <td>None</td>\n",
              "      <td>None</td>\n",
              "      <td>None</td>\n",
              "      <td>None</td>\n",
              "      <td>None</td>\n",
              "      <td>None</td>\n",
              "      <td>None</td>\n",
              "      <td>None</td>\n",
              "      <td>None</td>\n",
              "      <td>None</td>\n",
              "      <td>None</td>\n",
              "      <td>None</td>\n",
              "      <td>None</td>\n",
              "      <td>None</td>\n",
              "      <td>None</td>\n",
              "      <td>None</td>\n",
              "      <td>None</td>\n",
              "      <td>None</td>\n",
              "      <td>None</td>\n",
              "      <td>None</td>\n",
              "      <td>None</td>\n",
              "      <td>None</td>\n",
              "      <td>None</td>\n",
              "    </tr>\n",
              "    <tr>\n",
              "      <th>2</th>\n",
              "      <td>(when, WRB)</td>\n",
              "      <td>(i, NN)</td>\n",
              "      <td>(will, MD)</td>\n",
              "      <td>(get, VB)</td>\n",
              "      <td>(my, PRP$)</td>\n",
              "      <td>(10, CD)</td>\n",
              "      <td>(%, NN)</td>\n",
              "      <td>(cash, NN)</td>\n",
              "      <td>(back, RB)</td>\n",
              "      <td>(..., :)</td>\n",
              "      <td>(., .)</td>\n",
              "      <td>(its, PRP$)</td>\n",
              "      <td>(already, RB)</td>\n",
              "      <td>(15, CD)</td>\n",
              "      <td>(january.., NN)</td>\n",
              "      <td>None</td>\n",
              "      <td>None</td>\n",
              "      <td>None</td>\n",
              "      <td>None</td>\n",
              "      <td>None</td>\n",
              "      <td>None</td>\n",
              "      <td>None</td>\n",
              "      <td>None</td>\n",
              "      <td>None</td>\n",
              "      <td>None</td>\n",
              "      <td>None</td>\n",
              "      <td>None</td>\n",
              "      <td>None</td>\n",
              "      <td>None</td>\n",
              "      <td>None</td>\n",
              "      <td>None</td>\n",
              "      <td>None</td>\n",
              "      <td>None</td>\n",
              "      <td>None</td>\n",
              "      <td>None</td>\n",
              "      <td>None</td>\n",
              "      <td>None</td>\n",
              "      <td>None</td>\n",
              "      <td>None</td>\n",
              "      <td>None</td>\n",
              "      <td>...</td>\n",
              "      <td>None</td>\n",
              "      <td>None</td>\n",
              "      <td>None</td>\n",
              "      <td>None</td>\n",
              "      <td>None</td>\n",
              "      <td>None</td>\n",
              "      <td>None</td>\n",
              "      <td>None</td>\n",
              "      <td>None</td>\n",
              "      <td>None</td>\n",
              "      <td>None</td>\n",
              "      <td>None</td>\n",
              "      <td>None</td>\n",
              "      <td>None</td>\n",
              "      <td>None</td>\n",
              "      <td>None</td>\n",
              "      <td>None</td>\n",
              "      <td>None</td>\n",
              "      <td>None</td>\n",
              "      <td>None</td>\n",
              "      <td>None</td>\n",
              "      <td>None</td>\n",
              "      <td>None</td>\n",
              "      <td>None</td>\n",
              "      <td>None</td>\n",
              "      <td>None</td>\n",
              "      <td>None</td>\n",
              "      <td>None</td>\n",
              "      <td>None</td>\n",
              "      <td>None</td>\n",
              "      <td>None</td>\n",
              "      <td>None</td>\n",
              "      <td>None</td>\n",
              "      <td>None</td>\n",
              "      <td>None</td>\n",
              "      <td>None</td>\n",
              "      <td>None</td>\n",
              "      <td>None</td>\n",
              "      <td>None</td>\n",
              "      <td>None</td>\n",
              "    </tr>\n",
              "    <tr>\n",
              "      <th>3</th>\n",
              "      <td>(good, JJ)</td>\n",
              "      <td>None</td>\n",
              "      <td>None</td>\n",
              "      <td>None</td>\n",
              "      <td>None</td>\n",
              "      <td>None</td>\n",
              "      <td>None</td>\n",
              "      <td>None</td>\n",
              "      <td>None</td>\n",
              "      <td>None</td>\n",
              "      <td>None</td>\n",
              "      <td>None</td>\n",
              "      <td>None</td>\n",
              "      <td>None</td>\n",
              "      <td>None</td>\n",
              "      <td>None</td>\n",
              "      <td>None</td>\n",
              "      <td>None</td>\n",
              "      <td>None</td>\n",
              "      <td>None</td>\n",
              "      <td>None</td>\n",
              "      <td>None</td>\n",
              "      <td>None</td>\n",
              "      <td>None</td>\n",
              "      <td>None</td>\n",
              "      <td>None</td>\n",
              "      <td>None</td>\n",
              "      <td>None</td>\n",
              "      <td>None</td>\n",
              "      <td>None</td>\n",
              "      <td>None</td>\n",
              "      <td>None</td>\n",
              "      <td>None</td>\n",
              "      <td>None</td>\n",
              "      <td>None</td>\n",
              "      <td>None</td>\n",
              "      <td>None</td>\n",
              "      <td>None</td>\n",
              "      <td>None</td>\n",
              "      <td>None</td>\n",
              "      <td>...</td>\n",
              "      <td>None</td>\n",
              "      <td>None</td>\n",
              "      <td>None</td>\n",
              "      <td>None</td>\n",
              "      <td>None</td>\n",
              "      <td>None</td>\n",
              "      <td>None</td>\n",
              "      <td>None</td>\n",
              "      <td>None</td>\n",
              "      <td>None</td>\n",
              "      <td>None</td>\n",
              "      <td>None</td>\n",
              "      <td>None</td>\n",
              "      <td>None</td>\n",
              "      <td>None</td>\n",
              "      <td>None</td>\n",
              "      <td>None</td>\n",
              "      <td>None</td>\n",
              "      <td>None</td>\n",
              "      <td>None</td>\n",
              "      <td>None</td>\n",
              "      <td>None</td>\n",
              "      <td>None</td>\n",
              "      <td>None</td>\n",
              "      <td>None</td>\n",
              "      <td>None</td>\n",
              "      <td>None</td>\n",
              "      <td>None</td>\n",
              "      <td>None</td>\n",
              "      <td>None</td>\n",
              "      <td>None</td>\n",
              "      <td>None</td>\n",
              "      <td>None</td>\n",
              "      <td>None</td>\n",
              "      <td>None</td>\n",
              "      <td>None</td>\n",
              "      <td>None</td>\n",
              "      <td>None</td>\n",
              "      <td>None</td>\n",
              "      <td>None</td>\n",
              "    </tr>\n",
              "    <tr>\n",
              "      <th>4</th>\n",
              "      <td>(the, DT)</td>\n",
              "      <td>(worst, JJS)</td>\n",
              "      <td>(phone, NN)</td>\n",
              "      <td>(everthey, NN)</td>\n",
              "      <td>(have, VBP)</td>\n",
              "      <td>(changed, VBN)</td>\n",
              "      <td>(the, DT)</td>\n",
              "      <td>(last, JJ)</td>\n",
              "      <td>(phone, NN)</td>\n",
              "      <td>(but, CC)</td>\n",
              "      <td>(the, DT)</td>\n",
              "      <td>(problem, NN)</td>\n",
              "      <td>(is, VBZ)</td>\n",
              "      <td>(still, RB)</td>\n",
              "      <td>(same, JJ)</td>\n",
              "      <td>(and, CC)</td>\n",
              "      <td>(the, DT)</td>\n",
              "      <td>(amazon, NN)</td>\n",
              "      <td>(is, VBZ)</td>\n",
              "      <td>(not, RB)</td>\n",
              "      <td>(returning, VBG)</td>\n",
              "      <td>(the, DT)</td>\n",
              "      <td>(phone, NN)</td>\n",
              "      <td>(.highly, RB)</td>\n",
              "      <td>(disappointing, JJ)</td>\n",
              "      <td>(of, IN)</td>\n",
              "      <td>(amazon, NN)</td>\n",
              "      <td>None</td>\n",
              "      <td>None</td>\n",
              "      <td>None</td>\n",
              "      <td>None</td>\n",
              "      <td>None</td>\n",
              "      <td>None</td>\n",
              "      <td>None</td>\n",
              "      <td>None</td>\n",
              "      <td>None</td>\n",
              "      <td>None</td>\n",
              "      <td>None</td>\n",
              "      <td>None</td>\n",
              "      <td>None</td>\n",
              "      <td>...</td>\n",
              "      <td>None</td>\n",
              "      <td>None</td>\n",
              "      <td>None</td>\n",
              "      <td>None</td>\n",
              "      <td>None</td>\n",
              "      <td>None</td>\n",
              "      <td>None</td>\n",
              "      <td>None</td>\n",
              "      <td>None</td>\n",
              "      <td>None</td>\n",
              "      <td>None</td>\n",
              "      <td>None</td>\n",
              "      <td>None</td>\n",
              "      <td>None</td>\n",
              "      <td>None</td>\n",
              "      <td>None</td>\n",
              "      <td>None</td>\n",
              "      <td>None</td>\n",
              "      <td>None</td>\n",
              "      <td>None</td>\n",
              "      <td>None</td>\n",
              "      <td>None</td>\n",
              "      <td>None</td>\n",
              "      <td>None</td>\n",
              "      <td>None</td>\n",
              "      <td>None</td>\n",
              "      <td>None</td>\n",
              "      <td>None</td>\n",
              "      <td>None</td>\n",
              "      <td>None</td>\n",
              "      <td>None</td>\n",
              "      <td>None</td>\n",
              "      <td>None</td>\n",
              "      <td>None</td>\n",
              "      <td>None</td>\n",
              "      <td>None</td>\n",
              "      <td>None</td>\n",
              "      <td>None</td>\n",
              "      <td>None</td>\n",
              "      <td>None</td>\n",
              "    </tr>\n",
              "  </tbody>\n",
              "</table>\n",
              "<p>5 rows × 818 columns</p>\n",
              "</div>"
            ],
            "text/plain": [
              "            0             1            2    ...   815   816   817\n",
              "0    (good, JJ)     (but, CC)  (need, VBP)  ...  None  None  None\n",
              "1  (worst, JJS)  (mobile, NN)      (i, NN)  ...  None  None  None\n",
              "2   (when, WRB)       (i, NN)   (will, MD)  ...  None  None  None\n",
              "3    (good, JJ)          None         None  ...  None  None  None\n",
              "4     (the, DT)  (worst, JJS)  (phone, NN)  ...  None  None  None\n",
              "\n",
              "[5 rows x 818 columns]"
            ]
          },
          "metadata": {},
          "execution_count": 15
        }
      ]
    },
    {
      "cell_type": "markdown",
      "metadata": {
        "id": "ZkZQxCW9BHlX"
      },
      "source": [
        "**5. For the topic model, we should  want to include only nouns.**\n",
        "\n",
        "\n",
        "\n",
        "*   Find out all the POS tags that correspond to nouns.\n",
        "*   Limit the data to only terms with these tags.\n",
        "\n",
        "\n",
        "\n"
      ]
    },
    {
      "cell_type": "code",
      "metadata": {
        "id": "qTrThztPBUuQ"
      },
      "source": [
        "import re\n",
        "reviews_noun=[]\n",
        "for sent in pos_tag:\n",
        " reviews_noun.append([token for token in sent if re.search(\"NN.*\",\n",
        "token[1])])"
      ],
      "execution_count": 16,
      "outputs": []
    },
    {
      "cell_type": "code",
      "metadata": {
        "colab": {
          "base_uri": "https://localhost:8080/"
        },
        "id": "EX0jmsBfBXQB",
        "outputId": "6814ff74-4b90-4264-bb89-603d2d737d1b"
      },
      "source": [
        "reviews_noun[0:3]"
      ],
      "execution_count": 17,
      "outputs": [
        {
          "output_type": "execute_result",
          "data": {
            "text/plain": [
              "[[('updates', 'NNS'), ('improvements', 'NNS')],\n",
              " [('mobile', 'NN'),\n",
              "  ('i', 'NN'),\n",
              "  ('battery', 'NN'),\n",
              "  ('hell', 'NN'),\n",
              "  ('backup', 'NN'),\n",
              "  ('hours', 'NNS'),\n",
              "  ('uses', 'NNS'),\n",
              "  ('idle', 'NN'),\n",
              "  ('discharged.this', 'NN'),\n",
              "  ('lie', 'NN'),\n",
              "  ('amazon', 'NN'),\n",
              "  ('lenove', 'NN'),\n",
              "  ('battery', 'NN'),\n",
              "  ('charger', 'NN'),\n",
              "  ('hours', 'NNS'),\n",
              "  ('don', 'NN')],\n",
              " [('i', 'NN'), ('%', 'NN'), ('cash', 'NN'), ('january..', 'NN')]]"
            ]
          },
          "metadata": {},
          "execution_count": 17
        }
      ]
    },
    {
      "cell_type": "markdown",
      "metadata": {
        "id": "D1vOhqU2BalY"
      },
      "source": [
        "**6. Lemmatize.**\n",
        "\n",
        "\n",
        "\n",
        "*   Different forms of the terms need to be treated as one.\n",
        "*   No need to provide POS tag to lemmatizer for now.\n",
        "\n"
      ]
    },
    {
      "cell_type": "code",
      "metadata": {
        "id": "0MXPi-6mBZ_U"
      },
      "source": [
        "from nltk.stem import WordNetLemmatizer\n",
        "wnl = WordNetLemmatizer()"
      ],
      "execution_count": 18,
      "outputs": []
    },
    {
      "cell_type": "code",
      "metadata": {
        "id": "hMCk9JBABpFb"
      },
      "source": [
        "reviews_lemmatized=[]\n",
        "for sent in reviews_noun:\n",
        " reviews_lemmatized.append([wnl.lemmatize(word[0]) for word in sent])"
      ],
      "execution_count": 19,
      "outputs": []
    },
    {
      "cell_type": "code",
      "metadata": {
        "colab": {
          "base_uri": "https://localhost:8080/"
        },
        "id": "PU7GgwzqBpIL",
        "outputId": "bbdf582c-8228-43a1-e9e1-42c4372fd15a"
      },
      "source": [
        "reviews_lemmatized[0],reviews_lemmatized[1],reviews_lemmatized[2]"
      ],
      "execution_count": 20,
      "outputs": [
        {
          "output_type": "execute_result",
          "data": {
            "text/plain": [
              "(['update', 'improvement'],\n",
              " ['mobile',\n",
              "  'i',\n",
              "  'battery',\n",
              "  'hell',\n",
              "  'backup',\n",
              "  'hour',\n",
              "  'us',\n",
              "  'idle',\n",
              "  'discharged.this',\n",
              "  'lie',\n",
              "  'amazon',\n",
              "  'lenove',\n",
              "  'battery',\n",
              "  'charger',\n",
              "  'hour',\n",
              "  'don'],\n",
              " ['i', '%', 'cash', 'january..'])"
            ]
          },
          "metadata": {},
          "execution_count": 20
        }
      ]
    },
    {
      "cell_type": "markdown",
      "metadata": {
        "id": "VuEyyKRnBsrU"
      },
      "source": [
        "**7. Remove stopwords and punctuation (if there are any).**"
      ]
    },
    {
      "cell_type": "code",
      "metadata": {
        "colab": {
          "base_uri": "https://localhost:8080/"
        },
        "id": "hNROILDfBaGS",
        "outputId": "80e30044-864f-48c1-9b7d-3a30791a5785"
      },
      "source": [
        "print(stopwords.words('english'))"
      ],
      "execution_count": 21,
      "outputs": [
        {
          "output_type": "stream",
          "name": "stdout",
          "text": [
            "['i', 'me', 'my', 'myself', 'we', 'our', 'ours', 'ourselves', 'you', \"you're\", \"you've\", \"you'll\", \"you'd\", 'your', 'yours', 'yourself', 'yourselves', 'he', 'him', 'his', 'himself', 'she', \"she's\", 'her', 'hers', 'herself', 'it', \"it's\", 'its', 'itself', 'they', 'them', 'their', 'theirs', 'themselves', 'what', 'which', 'who', 'whom', 'this', 'that', \"that'll\", 'these', 'those', 'am', 'is', 'are', 'was', 'were', 'be', 'been', 'being', 'have', 'has', 'had', 'having', 'do', 'does', 'did', 'doing', 'a', 'an', 'the', 'and', 'but', 'if', 'or', 'because', 'as', 'until', 'while', 'of', 'at', 'by', 'for', 'with', 'about', 'against', 'between', 'into', 'through', 'during', 'before', 'after', 'above', 'below', 'to', 'from', 'up', 'down', 'in', 'out', 'on', 'off', 'over', 'under', 'again', 'further', 'then', 'once', 'here', 'there', 'when', 'where', 'why', 'how', 'all', 'any', 'both', 'each', 'few', 'more', 'most', 'other', 'some', 'such', 'no', 'nor', 'not', 'only', 'own', 'same', 'so', 'than', 'too', 'very', 's', 't', 'can', 'will', 'just', 'don', \"don't\", 'should', \"should've\", 'now', 'd', 'll', 'm', 'o', 're', 've', 'y', 'ain', 'aren', \"aren't\", 'couldn', \"couldn't\", 'didn', \"didn't\", 'doesn', \"doesn't\", 'hadn', \"hadn't\", 'hasn', \"hasn't\", 'haven', \"haven't\", 'isn', \"isn't\", 'ma', 'mightn', \"mightn't\", 'mustn', \"mustn't\", 'needn', \"needn't\", 'shan', \"shan't\", 'shouldn', \"shouldn't\", 'wasn', \"wasn't\", 'weren', \"weren't\", 'won', \"won't\", 'wouldn', \"wouldn't\"]\n"
          ]
        }
      ]
    },
    {
      "cell_type": "code",
      "metadata": {
        "id": "D7Y6DdPRBy3U"
      },
      "source": [
        "from string import punctuation\n",
        "stop_words = stopwords.words(\"english\")+ list(punctuation)"
      ],
      "execution_count": 22,
      "outputs": []
    },
    {
      "cell_type": "code",
      "metadata": {
        "id": "jtdn8UYWB0dv"
      },
      "source": [
        "creviews = []\n",
        "for sent in reviews_lemmatized:\n",
        " creviews.append([term for term in sent if term not in stop_words])"
      ],
      "execution_count": 23,
      "outputs": []
    },
    {
      "cell_type": "code",
      "metadata": {
        "colab": {
          "base_uri": "https://localhost:8080/"
        },
        "id": "xlW4WzFBB0gI",
        "outputId": "7a196b56-f6b3-4cb4-9a96-4e8c97634233"
      },
      "source": [
        "creviews[0:4]"
      ],
      "execution_count": 24,
      "outputs": [
        {
          "output_type": "execute_result",
          "data": {
            "text/plain": [
              "[['update', 'improvement'],\n",
              " ['mobile',\n",
              "  'battery',\n",
              "  'hell',\n",
              "  'backup',\n",
              "  'hour',\n",
              "  'us',\n",
              "  'idle',\n",
              "  'discharged.this',\n",
              "  'lie',\n",
              "  'amazon',\n",
              "  'lenove',\n",
              "  'battery',\n",
              "  'charger',\n",
              "  'hour'],\n",
              " ['cash', 'january..'],\n",
              " []]"
            ]
          },
          "metadata": {},
          "execution_count": 24
        }
      ]
    },
    {
      "cell_type": "markdown",
      "metadata": {
        "id": "UHa6g1fzB9Ou"
      },
      "source": [
        "**8. Create a topic model using LDA on the cleaned-up data with 12 topics.**\n",
        "\n",
        "\n",
        "\n",
        "*   Print out the top terms for each topic.\n",
        "*   What is the coherence of the model with the c_v metric?\n",
        "\n"
      ]
    },
    {
      "cell_type": "code",
      "metadata": {
        "colab": {
          "base_uri": "https://localhost:8080/"
        },
        "id": "mO0DWckICD9p",
        "outputId": "5a03fbf1-7fef-4f28-c92c-8fade2d828d6"
      },
      "source": [
        "!pip install --upgrade gensim"
      ],
      "execution_count": 25,
      "outputs": [
        {
          "output_type": "stream",
          "name": "stdout",
          "text": [
            "Requirement already satisfied: gensim in /usr/local/lib/python3.7/dist-packages (4.1.2)\n",
            "Requirement already satisfied: numpy>=1.17.0 in /usr/local/lib/python3.7/dist-packages (from gensim) (1.19.5)\n",
            "Requirement already satisfied: scipy>=0.18.1 in /usr/local/lib/python3.7/dist-packages (from gensim) (1.4.1)\n",
            "Requirement already satisfied: smart-open>=1.8.1 in /usr/local/lib/python3.7/dist-packages (from gensim) (5.2.1)\n"
          ]
        }
      ]
    },
    {
      "cell_type": "code",
      "metadata": {
        "id": "8Dj7ITTLCIpk"
      },
      "source": [
        "import gensim\n",
        "from gensim import corpora\n",
        "from gensim.utils import simple_preprocess\n",
        "from gensim.parsing.preprocessing import STOPWORDS\n",
        "from nltk.stem import WordNetLemmatizer, SnowballStemmer\n",
        "from gensim.parsing.preprocessing import preprocess_documents\n",
        "from gensim.corpora import Dictionary\n",
        "from gensim.models import TfidfModel, LsiModel\n",
        "from gensim.models.coherencemodel import CoherenceModel"
      ],
      "execution_count": 26,
      "outputs": []
    },
    {
      "cell_type": "code",
      "metadata": {
        "id": "IvkXSzIvCK_i"
      },
      "source": [
        "id2word = corpora.Dictionary(creviews)\n",
        "texts = creviews"
      ],
      "execution_count": 27,
      "outputs": []
    },
    {
      "cell_type": "code",
      "metadata": {
        "colab": {
          "base_uri": "https://localhost:8080/"
        },
        "id": "4L3eqnIVCLDC",
        "outputId": "c03b7dd6-4202-401b-ed85-8df1683ec94f"
      },
      "source": [
        "corpus = [id2word.doc2bow(text) for text in texts]\n",
        "print(corpus[200])"
      ],
      "execution_count": 28,
      "outputs": [
        {
          "output_type": "stream",
          "name": "stdout",
          "text": [
            "[(427, 1), (428, 1), (429, 1), (430, 1)]\n"
          ]
        }
      ]
    },
    {
      "cell_type": "code",
      "metadata": {
        "id": "pwfHDOktCLGL"
      },
      "source": [
        "lda_model = gensim.models.ldamodel.LdaModel(corpus=corpus, id2word=id2word, num_topics=12, random_state=42, passes=10, per_word_topics=True)"
      ],
      "execution_count": 29,
      "outputs": []
    },
    {
      "cell_type": "code",
      "metadata": {
        "colab": {
          "base_uri": "https://localhost:8080/"
        },
        "id": "uMRCCP5vCRwE",
        "outputId": "1bd2cf38-d084-44e1-d83e-489e48167740"
      },
      "source": [
        "import pprint\n",
        "lda_model.print_topics()"
      ],
      "execution_count": 30,
      "outputs": [
        {
          "output_type": "execute_result",
          "data": {
            "text/plain": [
              "[(0,\n",
              "  '0.329*\"mobile\" + 0.094*\"charger\" + 0.073*\"heat\" + 0.030*\"box\" + 0.022*\"system\" + 0.022*\"worth\" + 0.020*\"turbo\" + 0.019*\"phone..\" + 0.015*\"class\" + 0.013*\"plz\"'),\n",
              " (1,\n",
              "  '0.226*\"camera\" + 0.097*\"quality\" + 0.037*\"battery\" + 0.030*\"performance\" + 0.020*\"display\" + 0.017*\"price\" + 0.017*\"mode\" + 0.014*\"feature\" + 0.013*\"ram\" + 0.013*\"sound\"'),\n",
              " (2,\n",
              "  '0.157*\"issue\" + 0.101*\"service\" + 0.086*\"money\" + 0.070*\"month\" + 0.046*\"value\" + 0.043*\"handset\" + 0.029*\"center\" + 0.025*\"replacement\" + 0.020*\"super\" + 0.019*\"amazon\"'),\n",
              " (3,\n",
              "  '0.093*\"battery\" + 0.044*\"day\" + 0.043*\"time\" + 0.037*\"phone\" + 0.034*\"issue\" + 0.029*\"hour\" + 0.025*\"update\" + 0.021*\"device\" + 0.018*\"charge\" + 0.018*\"software\"'),\n",
              " (4,\n",
              "  '0.255*\"battery\" + 0.121*\"backup\" + 0.065*\"waste\" + 0.046*\"superb\" + 0.043*\"everything\" + 0.039*\"money\" + 0.027*\"please\" + 0.017*\"awesome\" + 0.014*\"bill\" + 0.011*\"bit\"'),\n",
              " (5,\n",
              "  '0.114*\"note\" + 0.060*\"k8\" + 0.058*\"lenovo\" + 0.038*\"amazon\" + 0.036*\"network\" + 0.021*\"customer\" + 0.020*\"call\" + 0.020*\"sim\" + 0.019*\"return\" + 0.018*\"day\"'),\n",
              " (6,\n",
              "  '0.335*\"problem\" + 0.129*\"heating\" + 0.075*\"price\" + 0.052*\"range\" + 0.032*\"buy\" + 0.025*\"network\" + 0.014*\"cast\" + 0.010*\"charging\" + 0.010*\"order\" + 0.010*\"one\"'),\n",
              " (7,\n",
              "  '0.384*\"product\" + 0.038*\"hai\" + 0.030*\"h\" + 0.017*\"ho\" + 0.016*\"earphone\" + 0.015*\"ok\" + 0.014*\"lenovo\" + 0.011*\"amazon\" + 0.010*\"complaint\" + 0.009*\"hi\"'),\n",
              " (8,\n",
              "  '0.121*\"screen\" + 0.078*\"glass\" + 0.054*\"expectation\" + 0.041*\"gorilla\" + 0.038*\"set\" + 0.038*\"excellent\" + 0.036*\"bug\" + 0.018*\"k4\" + 0.016*\"deal\" + 0.015*\"ko\"'),\n",
              " (9,\n",
              "  '0.084*\"speaker\" + 0.037*\"dolby\" + 0.035*\"card\" + 0.034*\"sound\" + 0.031*\"headphone\" + 0.029*\"delivery\" + 0.028*\"memory\" + 0.025*\"flash\" + 0.025*\"key\" + 0.024*\"music\"'),\n",
              " (10,\n",
              "  '0.478*\"phone\" + 0.035*\"feature\" + 0.026*\"price\" + 0.015*\"processor\" + 0.013*\"budget\" + 0.012*\"time\" + 0.011*\"game\" + 0.010*\"hang\" + 0.010*\"lenovo\" + 0.010*\"month\"'),\n",
              " (11,\n",
              "  '0.140*\"performance\" + 0.063*\"call\" + 0.042*\"smartphone\" + 0.037*\"experience\" + 0.033*\"killer\" + 0.031*\"voice\" + 0.031*\"till\" + 0.029*\"condition\" + 0.024*\"item\" + 0.019*\"recorder\"')]"
            ]
          },
          "metadata": {},
          "execution_count": 30
        }
      ]
    },
    {
      "cell_type": "markdown",
      "metadata": {
        "id": "m_0xkr66CYzo"
      },
      "source": [
        "**9. Analyze the topics through the business lens.**\n",
        "\n",
        "*   Determine which of the topics can be combined.\n",
        "\n"
      ]
    },
    {
      "cell_type": "code",
      "metadata": {
        "id": "KayukPeBCX4z"
      },
      "source": [
        "coherence_model_lda = CoherenceModel(model=lda_model, texts=creviews,dictionary=id2word, coherence='c_v')\n",
        "coherence_lda = coherence_model_lda.get_coherence()"
      ],
      "execution_count": 31,
      "outputs": []
    },
    {
      "cell_type": "code",
      "metadata": {
        "colab": {
          "base_uri": "https://localhost:8080/"
        },
        "id": "ApF6SR0uCmKt",
        "outputId": "520fd5ac-dc6f-4a02-d938-6bd33dff30fc"
      },
      "source": [
        "print('\\nCoherence Score: ', coherence_lda)"
      ],
      "execution_count": 32,
      "outputs": [
        {
          "output_type": "stream",
          "name": "stdout",
          "text": [
            "\n",
            "Coherence Score:  0.5330747959468586\n"
          ]
        }
      ]
    },
    {
      "cell_type": "markdown",
      "metadata": {
        "id": "PBbw0_3ICrr1"
      },
      "source": [
        "**10. Create a topic model using LDA with what you think is the optimal number of topics**\n",
        "\n",
        "\n",
        "*   What is the coherence of the model?\n",
        "\n"
      ]
    },
    {
      "cell_type": "code",
      "metadata": {
        "id": "q0t8qxnxCxyy"
      },
      "source": [
        "lda_model8 = gensim.models.ldamodel.LdaModel(corpus=corpus, id2word=id2word, num_topics=8, random_state=42, passes=10, per_word_topics=True)"
      ],
      "execution_count": 33,
      "outputs": []
    },
    {
      "cell_type": "code",
      "metadata": {
        "colab": {
          "base_uri": "https://localhost:8080/"
        },
        "id": "1XZgdCseC3WK",
        "outputId": "112b3e7d-7521-4648-e81a-e9cdfb256fd6"
      },
      "source": [
        "coherence_model_lda = CoherenceModel(model=lda_model8, texts=creviews,dictionary=id2word, coherence='c_v')\n",
        "coherence_lda = coherence_model_lda.get_coherence()\n",
        "print('\\nCoherence Score: ', coherence_lda)"
      ],
      "execution_count": 34,
      "outputs": [
        {
          "output_type": "stream",
          "name": "stdout",
          "text": [
            "\n",
            "Coherence Score:  0.4758110134966591\n"
          ]
        }
      ]
    },
    {
      "cell_type": "markdown",
      "metadata": {
        "id": "ClQbiqatC33q"
      },
      "source": [
        "**11. The business should be able to interpret the topics.**\n",
        "\n",
        "\n",
        "*   Name each of the identified topics.\n",
        "*   Create a table with the topic name and the top 10 terms in each to present to the business.\n",
        "\n"
      ]
    },
    {
      "cell_type": "code",
      "metadata": {
        "colab": {
          "base_uri": "https://localhost:8080/"
        },
        "id": "vuuIa_fQC_ls",
        "outputId": "67a0b113-14a9-45b8-b566-9905dcea6b09"
      },
      "source": [
        "x = lda_model8.show_topics(formatted=False)\n",
        "topics_words = [(tp[0], [wd[0] for wd in tp[1]]) for tp in x]\n",
        "for topic,words in topics_words:\n",
        " print(str(topic)+ \"::\"+ str(words))\n",
        "print()"
      ],
      "execution_count": 35,
      "outputs": [
        {
          "output_type": "stream",
          "name": "stdout",
          "text": [
            "0::['mobile', 'battery', 'heat', 'backup', 'charger', '..', 'box', 'issue', 'turbo', 'piece']\n",
            "1::['camera', 'quality', 'phone', 'battery', 'performance', 'sound', 'mode', 'display', 'speaker', 'price']\n",
            "2::['delivery', 'service', 'hai', 'handset', 'amazon', 'super', 'thanks', 'set', 'experience', 'hi']\n",
            "3::['phone', 'battery', 'day', 'time', 'issue', 'hour', 'charge', 'feature', 'update', 'use']\n",
            "4::['money', 'waste', 'everything', 'value', 'superb', 'smartphone', 'worth', 'please', 'awesome', 'date']\n",
            "5::['note', 'phone', 'k8', 'issue', 'lenovo', 'call', 'network', 'amazon', 'service', 'sim']\n",
            "6::['problem', 'heating', 'device', 'cast', 'issue', 'network', 'screen', 'month', 'phone..', 'bill']\n",
            "7::['product', 'price', 'feature', 'phone', 'range', 'lenovo', 'buy', 'earphone', 'ok', 'cost']\n",
            "\n"
          ]
        }
      ]
    },
    {
      "cell_type": "markdown",
      "metadata": {
        "id": "MZb1xucoDM63"
      },
      "source": [
        "**Top business name**\n",
        "\n",
        "\n",
        "\n",
        "*   Topic 0: Accessories\n",
        "*   Topic 1: Features\n",
        "\n",
        "*   Topic 2: Service of retailer\n",
        "*   Topic 3: Mobile phone performance\n",
        "\n",
        "*   Topic 4: Feedback about the product\n",
        "*   Topic 5: Mobile phone network infrastructure\n",
        "\n",
        "*   Topic 6: Mobile phone issues\n",
        "*   Topic 7: Other mobile phone features\n",
        "\n",
        "\n",
        "\n",
        "\n",
        "\n",
        "\n",
        "\n"
      ]
    }
  ]
}