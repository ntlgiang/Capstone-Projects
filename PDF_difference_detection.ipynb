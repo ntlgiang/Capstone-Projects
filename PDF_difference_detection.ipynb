{
 "cells": [
  {
   "cell_type": "markdown",
   "metadata": {
    "id": "q5-h9XPH3BAE"
   },
   "source": [
    "# **HACKATHON AUTOMATION**"
   ]
  },
  {
   "cell_type": "markdown",
   "metadata": {
    "id": "33b0cbgK3I2D"
   },
   "source": [
    "**To detect the difference between 2 PDF mechanical drawings**\n",
    "\n",
    "Executed by: Nguyen Tuan Le Giang (RBEI/EIA)"
   ]
  },
  {
   "cell_type": "markdown",
   "metadata": {
    "id": "Ia8ew_BM3mWc"
   },
   "source": [
    "Because the limitation of access right, I skipped the first model to convert the PDF drawing into Image.\n"
   ]
  },
  {
   "cell_type": "markdown",
   "metadata": {
    "id": "galeBBi84BBy"
   },
   "source": [
    "**1. PIL Library**"
   ]
  },
  {
   "cell_type": "code",
   "execution_count": 1,
   "metadata": {
    "id": "ElyedtgklKAp"
   },
   "outputs": [],
   "source": [
    "from PIL import Image, ImageChops"
   ]
  },
  {
   "cell_type": "code",
   "execution_count": 2,
   "metadata": {
    "id": "0itLhC12lWPT"
   },
   "outputs": [],
   "source": [
    "image_1 = Image.open('/content/drive/MyDrive/Colab Notebooks/Dataset/original_high.jpg')\n",
    "image_2 = Image.open('/content/drive/MyDrive/Colab Notebooks/Dataset/variant_high.jpg')"
   ]
  },
  {
   "cell_type": "code",
   "execution_count": 3,
   "metadata": {
    "id": "5XdalnJKlo_9"
   },
   "outputs": [],
   "source": [
    "diff = ImageChops.difference(image_1,image_2)"
   ]
  },
  {
   "cell_type": "code",
   "execution_count": 4,
   "metadata": {
    "id": "eTb2u0eZlvaX"
   },
   "outputs": [],
   "source": [
    "if diff.getbbox():\n",
    "  diff.show()"
   ]
  },
  {
   "cell_type": "markdown",
   "metadata": {
    "id": "aM9iNt_n4ETA"
   },
   "source": [
    "**2. CV2 Library**"
   ]
  },
  {
   "cell_type": "code",
   "execution_count": 5,
   "metadata": {
    "id": "IfBrLNurmAFR"
   },
   "outputs": [],
   "source": [
    "import cv2\n",
    "import numpy as np"
   ]
  },
  {
   "cell_type": "code",
   "execution_count": 6,
   "metadata": {
    "id": "dXr6Ccx8njtw"
   },
   "outputs": [],
   "source": [
    "image1 = cv2.imread('/content/drive/MyDrive/Colab Notebooks/Dataset/original_high.jpg')\n",
    "image2 = cv2.imread('/content/drive/MyDrive/Colab Notebooks/Dataset/variant_high.jpg')"
   ]
  },
  {
   "cell_type": "code",
   "execution_count": 7,
   "metadata": {
    "id": "F5BFyCZfnvpy"
   },
   "outputs": [],
   "source": [
    "difference = cv2.subtract(image1,image2)"
   ]
  },
  {
   "cell_type": "code",
   "execution_count": 8,
   "metadata": {
    "id": "qW_-F0ajn3iw"
   },
   "outputs": [],
   "source": [
    "result = not np.any(difference)"
   ]
  },
  {
   "cell_type": "code",
   "execution_count": 9,
   "metadata": {
    "colab": {
     "base_uri": "https://localhost:8080/"
    },
    "id": "RSngVZPVn7rw",
    "outputId": "e84cfece-2c5c-4078-f828-94329921c46b"
   },
   "outputs": [
    {
     "name": "stdout",
     "output_type": "stream",
     "text": [
      "The images are difference\n"
     ]
    }
   ],
   "source": [
    "if result is True:\n",
    "  print('The images are the same')\n",
    "else:\n",
    "  cv2.imwrite(\"/content/drive/MyDrive/Colab Notebooks/Dataset/result.jpg\",difference)\n",
    "  print('The images are difference')"
   ]
  }
 ],
 "metadata": {
  "colab": {
   "collapsed_sections": [],
   "name": "PDF difference detection",
   "provenance": []
  },
  "kernelspec": {
   "display_name": "Python 3",
   "language": "python",
   "name": "python3"
  },
  "language_info": {
   "codemirror_mode": {
    "name": "ipython",
    "version": 3
   },
   "file_extension": ".py",
   "mimetype": "text/x-python",
   "name": "python",
   "nbconvert_exporter": "python",
   "pygments_lexer": "ipython3",
   "version": "3.7.4"
  }
 },
 "nbformat": 4,
 "nbformat_minor": 1
}
